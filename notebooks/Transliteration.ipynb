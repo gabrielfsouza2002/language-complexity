{
 "cells": [
  {
   "cell_type": "code",
   "execution_count": 1,
   "id": "a6d4a516-9658-4b7b-bcda-c3535607def2",
   "metadata": {},
   "outputs": [],
   "source": [
    "%load_ext autoreload"
   ]
  },
  {
   "cell_type": "code",
   "execution_count": 2,
   "id": "7cbc246b-ed6a-4490-9c54-f41811d7a11f",
   "metadata": {},
   "outputs": [],
   "source": [
    "%autoreload 2"
   ]
  },
  {
   "cell_type": "code",
   "execution_count": 3,
   "id": "f4378264-dd05-47d3-b827-06ab7c382ae5",
   "metadata": {},
   "outputs": [],
   "source": [
    "import sys\n",
    "sys.path.append('..')\n",
    "import pandas as pd\n",
    "import src.text.translit as t\n",
    "import src.data.util as du"
   ]
  },
  {
   "cell_type": "code",
   "execution_count": 4,
   "id": "a67ccf67-2a2a-4a9b-85eb-6ed76a2f4cdc",
   "metadata": {},
   "outputs": [],
   "source": [
    "bibles = pd.read_csv('../dataset/bibles.csv', index_col=0)"
   ]
  },
  {
   "cell_type": "code",
   "execution_count": 5,
   "id": "98cdc31d-e87c-4b2a-ba45-9c748978936b",
   "metadata": {},
   "outputs": [],
   "source": [
    "bibles_text = '\\n'.join(du.sort_values(bibles)['text'])"
   ]
  },
  {
   "cell_type": "code",
   "execution_count": 6,
   "id": "1acb0574-ea4d-4749-a4d9-1db8f8a854e8",
   "metadata": {},
   "outputs": [],
   "source": [
    "tr = t.Transliterator.from_string(bibles_text)"
   ]
  },
  {
   "cell_type": "code",
   "execution_count": 7,
   "id": "bc7a1250-02e1-4f31-bc9e-b2fa467ca277",
   "metadata": {},
   "outputs": [],
   "source": [
    "tr.write_json('../dataset/encode_decode_tables.json')"
   ]
  }
 ],
 "metadata": {
  "kernelspec": {
   "display_name": "Python 3 (ipykernel)",
   "language": "python",
   "name": "python3"
  },
  "language_info": {
   "codemirror_mode": {
    "name": "ipython",
    "version": 3
   },
   "file_extension": ".py",
   "mimetype": "text/x-python",
   "name": "python",
   "nbconvert_exporter": "python",
   "pygments_lexer": "ipython3",
   "version": "3.11.8"
  }
 },
 "nbformat": 4,
 "nbformat_minor": 5
}
