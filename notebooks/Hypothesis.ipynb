{
 "cells": [
  {
   "cell_type": "code",
   "execution_count": 1,
   "id": "c07fb144-ce55-4b6b-9453-099ca4ea0b83",
   "metadata": {},
   "outputs": [],
   "source": [
    "import pandas as pd\n",
    "pd.options.mode.copy_on_write = True\n",
    "import matplotlib.pyplot as plt\n",
    "import seaborn as sns\n",
    "\n",
    "\n",
    "import sys\n",
    "sys.path.append('..')\n",
    "import src.data.util as du\n",
    "import src.text.tokenizer as tk"
   ]
  },
  {
   "cell_type": "markdown",
   "id": "be0186cc-b77d-4841-a162-3a2e41ce77eb",
   "metadata": {},
   "source": [
    "# Data setup"
   ]
  },
  {
   "cell_type": "code",
   "execution_count": 2,
   "id": "a1cb353a-d6a4-4fa2-856e-78996ae629fa",
   "metadata": {},
   "outputs": [],
   "source": [
    "df = pd.read_csv('../results/complexity_utf-16_4243_20_10_bibles_90_lcm.csv', index_col=False)\n",
    "bibles = pd.read_csv('../dataset/bibles_90_lcm.csv')\n",
    "\n",
    "raw_gzip = df[(df.metric == \"do-nothing\") & (df.algorithm == \"gzip\")]\n",
    "raw_bz2 = df[(df.metric == \"do-nothing\") & (df.algorithm == \"bz2\")]"
   ]
  },
  {
   "cell_type": "code",
   "execution_count": 3,
   "id": "e885b451-0301-48a9-85a8-1d3e65cb9802",
   "metadata": {},
   "outputs": [
    {
     "data": {
      "text/html": [
       "<div>\n",
       "<style scoped>\n",
       "    .dataframe tbody tr th:only-of-type {\n",
       "        vertical-align: middle;\n",
       "    }\n",
       "\n",
       "    .dataframe tbody tr th {\n",
       "        vertical-align: top;\n",
       "    }\n",
       "\n",
       "    .dataframe thead th {\n",
       "        text-align: right;\n",
       "    }\n",
       "</style>\n",
       "<table border=\"1\" class=\"dataframe\">\n",
       "  <thead>\n",
       "    <tr style=\"text-align: right;\">\n",
       "      <th></th>\n",
       "      <th>language</th>\n",
       "      <th>wals</th>\n",
       "      <th>metric</th>\n",
       "      <th>algorithm</th>\n",
       "      <th>value</th>\n",
       "      <th>run_id</th>\n",
       "    </tr>\n",
       "  </thead>\n",
       "  <tbody>\n",
       "    <tr>\n",
       "      <th>0</th>\n",
       "      <td>ANCIENT_GREEK</td>\n",
       "      <td>[grc]</td>\n",
       "      <td>del-verses</td>\n",
       "      <td>gzip</td>\n",
       "      <td>0.807393</td>\n",
       "      <td>0</td>\n",
       "    </tr>\n",
       "    <tr>\n",
       "      <th>1</th>\n",
       "      <td>ANCIENT_GREEK</td>\n",
       "      <td>[grc]</td>\n",
       "      <td>del-verses</td>\n",
       "      <td>gzip</td>\n",
       "      <td>0.809476</td>\n",
       "      <td>1</td>\n",
       "    </tr>\n",
       "    <tr>\n",
       "      <th>2</th>\n",
       "      <td>ANCIENT_GREEK</td>\n",
       "      <td>[grc]</td>\n",
       "      <td>del-verses</td>\n",
       "      <td>gzip</td>\n",
       "      <td>0.804954</td>\n",
       "      <td>2</td>\n",
       "    </tr>\n",
       "    <tr>\n",
       "      <th>3</th>\n",
       "      <td>ANCIENT_GREEK</td>\n",
       "      <td>[grc]</td>\n",
       "      <td>del-verses</td>\n",
       "      <td>gzip</td>\n",
       "      <td>0.809315</td>\n",
       "      <td>3</td>\n",
       "    </tr>\n",
       "    <tr>\n",
       "      <th>4</th>\n",
       "      <td>ANCIENT_GREEK</td>\n",
       "      <td>[grc]</td>\n",
       "      <td>del-verses</td>\n",
       "      <td>gzip</td>\n",
       "      <td>0.811832</td>\n",
       "      <td>4</td>\n",
       "    </tr>\n",
       "  </tbody>\n",
       "</table>\n",
       "</div>"
      ],
      "text/plain": [
       "        language   wals      metric algorithm     value  run_id\n",
       "0  ANCIENT_GREEK  [grc]  del-verses      gzip  0.807393       0\n",
       "1  ANCIENT_GREEK  [grc]  del-verses      gzip  0.809476       1\n",
       "2  ANCIENT_GREEK  [grc]  del-verses      gzip  0.804954       2\n",
       "3  ANCIENT_GREEK  [grc]  del-verses      gzip  0.809315       3\n",
       "4  ANCIENT_GREEK  [grc]  del-verses      gzip  0.811832       4"
      ]
     },
     "execution_count": 3,
     "metadata": {},
     "output_type": "execute_result"
    }
   ],
   "source": [
    "df.head()"
   ]
  },
  {
   "cell_type": "markdown",
   "id": "6d892938-f5b7-47bc-a351-a6b29aca5b5c",
   "metadata": {},
   "source": [
    "# Helper functions"
   ]
  },
  {
   "cell_type": "code",
   "execution_count": 4,
   "id": "e0b9a3b2-3c1f-45a8-8c17-241e709e6038",
   "metadata": {},
   "outputs": [],
   "source": [
    "def get_indexes(df):\n",
    "    langs = df.drop_duplicates(\"language\").sort_values(\"value\").language\n",
    "    ret = {\n",
    "        col : i\n",
    "    for i, col in enumerate(langs)\n",
    "    }\n",
    "    return ret\n",
    "\n",
    "\n",
    "def index_difference(id1, id2):\n",
    "    ids = id1.keys() & id2.keys()\n",
    "    ret = {\n",
    "        i : (id1[i] - id2[i])\n",
    "        for i in ids\n",
    "    }\n",
    "    return ret\n",
    "\n",
    "\n",
    "def compute_numtypes_numtokens(df):\n",
    "    langs = du.by_field(df, 'language')\n",
    "    united = {\n",
    "        lang : du.df_to_str(val)\n",
    "        for lang, val in langs.items()\n",
    "    }\n",
    "\n",
    "    d = dict(language=[], tokens=[], types=[])\n",
    "    for lang, text in united.items():\n",
    "        d['language'].append(lang)\n",
    "        tokens = tk.tokens(text)\n",
    "        d['tokens'].append(len(tokens))\n",
    "        d['types'].append(len(tk.types(tokens)))\n",
    "    return d\n",
    "       \n",
    "\n",
    "def fetch_algorithm(df, metric, algo):\n",
    "    df2 = df[(df.algorithm == algo) & (df.metric == metric)]\n",
    "    by = [\"language\"]\n",
    "    m = df2.groupby(by=by).value.transform(\"mean\")\n",
    "    s = df2.groupby(by=by).value.transform(\"std\")\n",
    "    df2['mean'] = m\n",
    "    df2['std'] = s\n",
    "    return df2.drop_duplicates('language').sort_values('language').reset_index().drop(columns='index')"
   ]
  },
  {
   "cell_type": "markdown",
   "id": "bef9e6ef-6ede-4b1a-9165-fb52cc8ef055",
   "metadata": {
    "jp-MarkdownHeadingCollapsed": true
   },
   "source": [
    "# H1'\n",
    "The language complexity of a translated text should be greater than their counterpart in the source language."
   ]
  },
  {
   "cell_type": "code",
   "execution_count": 5,
   "id": "1aa8a64d-45c2-4010-8fcd-e5a2dc731bf1",
   "metadata": {},
   "outputs": [
    {
     "data": {
      "text/html": [
       "<div>\n",
       "<style scoped>\n",
       "    .dataframe tbody tr th:only-of-type {\n",
       "        vertical-align: middle;\n",
       "    }\n",
       "\n",
       "    .dataframe tbody tr th {\n",
       "        vertical-align: top;\n",
       "    }\n",
       "\n",
       "    .dataframe thead th {\n",
       "        text-align: right;\n",
       "    }\n",
       "</style>\n",
       "<table border=\"1\" class=\"dataframe\">\n",
       "  <thead>\n",
       "    <tr style=\"text-align: right;\">\n",
       "      <th></th>\n",
       "      <th>language</th>\n",
       "      <th>wals</th>\n",
       "      <th>metric</th>\n",
       "      <th>algorithm</th>\n",
       "      <th>value</th>\n",
       "      <th>run_id</th>\n",
       "    </tr>\n",
       "  </thead>\n",
       "  <tbody>\n",
       "    <tr>\n",
       "      <th>3410</th>\n",
       "      <td>NHEENGATU</td>\n",
       "      <td>[yrl]</td>\n",
       "      <td>do-nothing</td>\n",
       "      <td>gzip</td>\n",
       "      <td>281693.0</td>\n",
       "      <td>0</td>\n",
       "    </tr>\n",
       "  </tbody>\n",
       "</table>\n",
       "</div>"
      ],
      "text/plain": [
       "       language   wals      metric algorithm     value  run_id\n",
       "3410  NHEENGATU  [yrl]  do-nothing      gzip  281693.0       0"
      ]
     },
     "execution_count": 5,
     "metadata": {},
     "output_type": "execute_result"
    }
   ],
   "source": [
    "raw_gzip[raw_gzip.value == raw_gzip.value.min()].drop_duplicates(\"language\")"
   ]
  },
  {
   "cell_type": "code",
   "execution_count": 6,
   "id": "f7202efa-a9ca-40b3-a9ea-1ef896757c31",
   "metadata": {},
   "outputs": [
    {
     "data": {
      "text/html": [
       "<div>\n",
       "<style scoped>\n",
       "    .dataframe tbody tr th:only-of-type {\n",
       "        vertical-align: middle;\n",
       "    }\n",
       "\n",
       "    .dataframe tbody tr th {\n",
       "        vertical-align: top;\n",
       "    }\n",
       "\n",
       "    .dataframe thead th {\n",
       "        text-align: right;\n",
       "    }\n",
       "</style>\n",
       "<table border=\"1\" class=\"dataframe\">\n",
       "  <thead>\n",
       "    <tr style=\"text-align: right;\">\n",
       "      <th></th>\n",
       "      <th>language</th>\n",
       "      <th>wals</th>\n",
       "      <th>metric</th>\n",
       "      <th>algorithm</th>\n",
       "      <th>value</th>\n",
       "      <th>run_id</th>\n",
       "    </tr>\n",
       "  </thead>\n",
       "  <tbody>\n",
       "    <tr>\n",
       "      <th>3680</th>\n",
       "      <td>NHEENGATU</td>\n",
       "      <td>[yrl]</td>\n",
       "      <td>do-nothing</td>\n",
       "      <td>bz2</td>\n",
       "      <td>171128.0</td>\n",
       "      <td>0</td>\n",
       "    </tr>\n",
       "  </tbody>\n",
       "</table>\n",
       "</div>"
      ],
      "text/plain": [
       "       language   wals      metric algorithm     value  run_id\n",
       "3680  NHEENGATU  [yrl]  do-nothing       bz2  171128.0       0"
      ]
     },
     "execution_count": 6,
     "metadata": {},
     "output_type": "execute_result"
    }
   ],
   "source": [
    "raw_bz2[raw_bz2.value == raw_bz2.value.min()].drop_duplicates(\"language\")"
   ]
  },
  {
   "cell_type": "markdown",
   "id": "0b1b1a8b-1011-474e-b0c4-5c3c81004b84",
   "metadata": {
    "jp-MarkdownHeadingCollapsed": true
   },
   "source": [
    "# H2'\n",
    "a) There exists a **positive** correlation between morphological complexity and **the number of types** in a sample.\n",
    "\n",
    "b) There exists a **negative** correlation between morphological complexity and **the number of tokens** in a sample."
   ]
  },
  {
   "cell_type": "code",
   "execution_count": 7,
   "id": "043c333b-6af4-49cf-a8cc-2a592a94e387",
   "metadata": {},
   "outputs": [
    {
     "name": "stdout",
     "output_type": "stream",
     "text": [
      "Gzip results:\n",
      "a) 0.9171\n",
      "b) -0.7652\n",
      "\n",
      "Bz2 results:\n",
      "a) 0.8632\n",
      "b) -0.7748\n"
     ]
    }
   ],
   "source": [
    "d = compute_numtypes_numtokens(bibles)\n",
    "\n",
    "tdf = pd.DataFrame(d).sort_values('language')\n",
    "\n",
    "repwords_gzip = fetch_algorithm(df, 'rep-words', 'gzip')\n",
    "repwords_bz2 = fetch_algorithm(df, 'rep-words', 'bz2')\n",
    "\n",
    "print(\"Gzip results:\")\n",
    "print(\"a) %0.4f\" % tdf.types.corr(repwords_gzip.value, method='pearson'))\n",
    "print(\"b) %0.4f\" % tdf.tokens.corr(repwords_gzip.value, method='pearson'))\n",
    "\n",
    "print(\"\\nBz2 results:\")\n",
    "print(\"a) %0.4f\" % tdf.types.corr(repwords_bz2.value, method='pearson'))\n",
    "print(\"b) %0.4f\" % tdf.tokens.corr(repwords_bz2.value, method='pearson'))"
   ]
  },
  {
   "cell_type": "markdown",
   "id": "70585133-c3c7-4dda-a726-2cd6d1d8f62c",
   "metadata": {},
   "source": [
    "# H3'\n",
    "The results are equivalent wheter using **Gzip** or **Bz2**."
   ]
  },
  {
   "cell_type": "code",
   "execution_count": 8,
   "id": "14246f79-65dd-4f29-bde7-228c36d15c26",
   "metadata": {},
   "outputs": [
    {
     "name": "stdout",
     "output_type": "stream",
     "text": [
      "Correlation between Gzip and Bz2 is 0.9896\n"
     ]
    }
   ],
   "source": [
    "gzipi = get_indexes(raw_gzip)\n",
    "bz2i = get_indexes(raw_bz2)\n",
    "\n",
    "gzip_series = pd.Series([gzipi[x] for x in sorted(gzipi) ])\n",
    "bz2_series = pd.Series([bz2i[x] for x in sorted(bz2i)])\n",
    "\n",
    "print(\"Correlation between Gzip and Bz2 is %0.4f\" % gzip_series.corr(bz2_series, method='pearson'))"
   ]
  },
  {
   "cell_type": "markdown",
   "id": "ca9dd9d2-0fd7-4b0c-9ae3-2437a9e692a9",
   "metadata": {},
   "source": [
    "# H4'"
   ]
  },
  {
   "cell_type": "code",
   "execution_count": 9,
   "id": "54a4c43b-51d1-4bad-a2d9-69c982ec7ec7",
   "metadata": {},
   "outputs": [],
   "source": [
    "def deviation_across_languages(df):\n",
    "    df2 = df.loc[:, :]\n",
    "    by = [\"metric\", \"algorithm\"]\n",
    "    m = df.groupby(by=by).value.transform(\"mean\")\n",
    "    s = df.groupby(by=by).value.transform(\"std\")\n",
    "    df2['mean'] = m\n",
    "    df2['std'] = s\n",
    "    return df2.sort_values('language').reset_index().drop(columns='index')"
   ]
  },
  {
   "cell_type": "code",
   "execution_count": 10,
   "id": "df94e6c5-d310-420e-8b6e-26b3694f49d4",
   "metadata": {},
   "outputs": [],
   "source": [
    "daldf = deviation_across_languages(df)"
   ]
  },
  {
   "cell_type": "code",
   "execution_count": 11,
   "id": "aa55b44b-15a0-4a21-a508-620b38591a11",
   "metadata": {},
   "outputs": [
    {
     "ename": "SyntaxError",
     "evalue": "closing parenthesis ')' does not match opening parenthesis '[' (2945950908.py, line 1)",
     "output_type": "error",
     "traceback": [
      "\u001b[0;36m  Cell \u001b[0;32mIn[11], line 1\u001b[0;36m\u001b[0m\n\u001b[0;31m    do_nothing_none = daldf['do-nothing', 'none')\u001b[0m\n\u001b[0m                                                ^\u001b[0m\n\u001b[0;31mSyntaxError\u001b[0m\u001b[0;31m:\u001b[0m closing parenthesis ')' does not match opening parenthesis '['\n"
     ]
    }
   ],
   "source": [
    "do_nothing_none = daldf['do-nothing', 'none')\n",
    "do_nothing_gzip = fetch_algorithm(df, 'do-nothing', 'gzip')\n",
    "do_nothing_bz2  = fetch_algorithm(df, 'do-nothing', 'bz2')"
   ]
  }
 ],
 "metadata": {
  "kernelspec": {
   "display_name": "Python 3 (ipykernel)",
   "language": "python",
   "name": "python3"
  },
  "language_info": {
   "codemirror_mode": {
    "name": "ipython",
    "version": 3
   },
   "file_extension": ".py",
   "mimetype": "text/x-python",
   "name": "python",
   "nbconvert_exporter": "python",
   "pygments_lexer": "ipython3",
   "version": "3.11.8"
  }
 },
 "nbformat": 4,
 "nbformat_minor": 5
}
