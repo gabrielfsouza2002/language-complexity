{
 "cells": [
  {
   "cell_type": "code",
   "execution_count": 1,
   "id": "c07fb144-ce55-4b6b-9453-099ca4ea0b83",
   "metadata": {},
   "outputs": [],
   "source": [
    "import re\n",
    "\n",
    "import matplotlib.pyplot as plt\n",
    "import numpy as np\n",
    "import pandas as pd\n",
    "pd.options.mode.copy_on_write = True\n",
    "\n",
    "import scipy as sp\n",
    "import seaborn as sns\n",
    "\n",
    "\n",
    "import sys\n",
    "sys.path.append('..')\n",
    "import src.data.util as du\n",
    "import src.text.tokenizer as tk"
   ]
  },
  {
   "cell_type": "markdown",
   "id": "be0186cc-b77d-4841-a162-3a2e41ce77eb",
   "metadata": {},
   "source": [
    "# Data setup"
   ]
  },
  {
   "cell_type": "code",
   "execution_count": 2,
   "id": "a1cb353a-d6a4-4fa2-856e-78996ae629fa",
   "metadata": {},
   "outputs": [],
   "source": [
    "data_file = '../results/complexity_utf-16_4243_20_10_bibles_90_lcm.csv'\n",
    "bible_file = '../dataset/' + re.match('.*(bibles_.*)', data_file).group(1)\n",
    "\n",
    "\n",
    "df = pd.read_csv(data_file, index_col=False)\n",
    "bibles = pd.read_csv(bible_file, index_col=False)\n",
    "\n",
    "raw_gzip = df[(df.metric == \"do-nothing\") & (df.algorithm == \"gzip\")]\n",
    "raw_bz2 = df[(df.metric == \"do-nothing\") & (df.algorithm == \"bz2\")]"
   ]
  },
  {
   "cell_type": "code",
   "execution_count": 3,
   "id": "e885b451-0301-48a9-85a8-1d3e65cb9802",
   "metadata": {},
   "outputs": [
    {
     "data": {
      "text/html": [
       "<div>\n",
       "<style scoped>\n",
       "    .dataframe tbody tr th:only-of-type {\n",
       "        vertical-align: middle;\n",
       "    }\n",
       "\n",
       "    .dataframe tbody tr th {\n",
       "        vertical-align: top;\n",
       "    }\n",
       "\n",
       "    .dataframe thead th {\n",
       "        text-align: right;\n",
       "    }\n",
       "</style>\n",
       "<table border=\"1\" class=\"dataframe\">\n",
       "  <thead>\n",
       "    <tr style=\"text-align: right;\">\n",
       "      <th></th>\n",
       "      <th>language</th>\n",
       "      <th>wals</th>\n",
       "      <th>metric</th>\n",
       "      <th>algorithm</th>\n",
       "      <th>value</th>\n",
       "      <th>run_id</th>\n",
       "    </tr>\n",
       "  </thead>\n",
       "  <tbody>\n",
       "    <tr>\n",
       "      <th>0</th>\n",
       "      <td>ANCIENT_GREEK</td>\n",
       "      <td>[grc]</td>\n",
       "      <td>del-verses</td>\n",
       "      <td>gzip</td>\n",
       "      <td>0.807393</td>\n",
       "      <td>0</td>\n",
       "    </tr>\n",
       "    <tr>\n",
       "      <th>1</th>\n",
       "      <td>ANCIENT_GREEK</td>\n",
       "      <td>[grc]</td>\n",
       "      <td>del-verses</td>\n",
       "      <td>gzip</td>\n",
       "      <td>0.809476</td>\n",
       "      <td>1</td>\n",
       "    </tr>\n",
       "    <tr>\n",
       "      <th>2</th>\n",
       "      <td>ANCIENT_GREEK</td>\n",
       "      <td>[grc]</td>\n",
       "      <td>del-verses</td>\n",
       "      <td>gzip</td>\n",
       "      <td>0.804954</td>\n",
       "      <td>2</td>\n",
       "    </tr>\n",
       "    <tr>\n",
       "      <th>3</th>\n",
       "      <td>ANCIENT_GREEK</td>\n",
       "      <td>[grc]</td>\n",
       "      <td>del-verses</td>\n",
       "      <td>gzip</td>\n",
       "      <td>0.809315</td>\n",
       "      <td>3</td>\n",
       "    </tr>\n",
       "    <tr>\n",
       "      <th>4</th>\n",
       "      <td>ANCIENT_GREEK</td>\n",
       "      <td>[grc]</td>\n",
       "      <td>del-verses</td>\n",
       "      <td>gzip</td>\n",
       "      <td>0.811832</td>\n",
       "      <td>4</td>\n",
       "    </tr>\n",
       "  </tbody>\n",
       "</table>\n",
       "</div>"
      ],
      "text/plain": [
       "        language   wals      metric algorithm     value  run_id\n",
       "0  ANCIENT_GREEK  [grc]  del-verses      gzip  0.807393       0\n",
       "1  ANCIENT_GREEK  [grc]  del-verses      gzip  0.809476       1\n",
       "2  ANCIENT_GREEK  [grc]  del-verses      gzip  0.804954       2\n",
       "3  ANCIENT_GREEK  [grc]  del-verses      gzip  0.809315       3\n",
       "4  ANCIENT_GREEK  [grc]  del-verses      gzip  0.811832       4"
      ]
     },
     "execution_count": 3,
     "metadata": {},
     "output_type": "execute_result"
    }
   ],
   "source": [
    "df.head()"
   ]
  },
  {
   "cell_type": "markdown",
   "id": "6d892938-f5b7-47bc-a351-a6b29aca5b5c",
   "metadata": {},
   "source": [
    "# Helper functions"
   ]
  },
  {
   "cell_type": "code",
   "execution_count": 118,
   "id": "e0b9a3b2-3c1f-45a8-8c17-241e709e6038",
   "metadata": {},
   "outputs": [],
   "source": [
    "def get_indexes(df):\n",
    "    langs = df.drop_duplicates(\"language\").sort_values(\"value\").language\n",
    "    ret = {\n",
    "        col : i\n",
    "    for i, col in enumerate(langs)\n",
    "    }\n",
    "    return ret\n",
    "\n",
    "\n",
    "def index_difference(id1, id2):\n",
    "    ids = id1.keys() & id2.keys()\n",
    "    ret = {\n",
    "        i : (id1[i] - id2[i])\n",
    "        for i in ids\n",
    "    }\n",
    "    return ret\n",
    "\n",
    "\n",
    "def compute_numtypes_numtokens(df):\n",
    "    langs = du.by_field(df, 'language')\n",
    "    united = {\n",
    "        lang : du.df_to_str(val)\n",
    "        for lang, val in langs.items()\n",
    "    }\n",
    "\n",
    "    d = dict(language=[], tokens=[], types=[])\n",
    "    for lang, text in united.items():\n",
    "        d['language'].append(lang)\n",
    "        tokens = tk.tokens(text)\n",
    "        d['tokens'].append(len(tokens))\n",
    "        d['types'].append(len(tk.types(tokens)))\n",
    "    return d\n",
    "       \n",
    "\n",
    "def fetch_algorithm(df, metric, algo):\n",
    "    df2 = df[(df.algorithm == algo) & (df.metric == metric)]\n",
    "    by = [\"language\"]\n",
    "    m = df2.groupby(by=by).value.transform(\"mean\")\n",
    "    s = df2.groupby(by=by).value.transform(\"std\")\n",
    "    df2['mean'] = m\n",
    "    df2['std'] = s\n",
    "    return df2.drop_duplicates('language').sort_values('language').reset_index().drop(columns='index')\n",
    "\n",
    "\n",
    "def fetch_all_metric_algorithms(df):\n",
    "    by = [\"language\", \"metric\", \"algorithm\"]\n",
    "    m = df.groupby(by=by).value.transform(\"mean\")\n",
    "    s = df.groupby(by=by).value.transform(\"std\")\n",
    "    df2 = df.copy()\n",
    "    df2[\"mean\"] = m\n",
    "    df2[\"var\"] = s**2\n",
    "    return df2.drop_duplicates(by).sort_values('language').reset_index().drop(columns=['index', 'run_id'])"
   ]
  },
  {
   "cell_type": "markdown",
   "id": "bef9e6ef-6ede-4b1a-9165-fb52cc8ef055",
   "metadata": {},
   "source": [
    "# H1' Original text complexity hypothesis\n",
    "The language complexity of a translated text should be greater than their counterpart in the source language."
   ]
  },
  {
   "cell_type": "code",
   "execution_count": 5,
   "id": "c0bad6c5-84ce-41d8-87fb-1d28fb16c0e8",
   "metadata": {},
   "outputs": [
    {
     "data": {
      "text/html": [
       "<div>\n",
       "<style scoped>\n",
       "    .dataframe tbody tr th:only-of-type {\n",
       "        vertical-align: middle;\n",
       "    }\n",
       "\n",
       "    .dataframe tbody tr th {\n",
       "        vertical-align: top;\n",
       "    }\n",
       "\n",
       "    .dataframe thead th {\n",
       "        text-align: right;\n",
       "    }\n",
       "</style>\n",
       "<table border=\"1\" class=\"dataframe\">\n",
       "  <thead>\n",
       "    <tr style=\"text-align: right;\">\n",
       "      <th></th>\n",
       "      <th>language</th>\n",
       "      <th>wals</th>\n",
       "      <th>metric</th>\n",
       "      <th>algorithm</th>\n",
       "      <th>value</th>\n",
       "      <th>run_id</th>\n",
       "    </tr>\n",
       "  </thead>\n",
       "  <tbody>\n",
       "    <tr>\n",
       "      <th>0</th>\n",
       "      <td>NHEENGATU</td>\n",
       "      <td>[yrl]</td>\n",
       "      <td>do-nothing</td>\n",
       "      <td>gzip</td>\n",
       "      <td>281693.0</td>\n",
       "      <td>0</td>\n",
       "    </tr>\n",
       "    <tr>\n",
       "      <th>1</th>\n",
       "      <td>JAMAMADI</td>\n",
       "      <td>jmm</td>\n",
       "      <td>do-nothing</td>\n",
       "      <td>gzip</td>\n",
       "      <td>304213.0</td>\n",
       "      <td>0</td>\n",
       "    </tr>\n",
       "    <tr>\n",
       "      <th>2</th>\n",
       "      <td>GUARANI_MBYA</td>\n",
       "      <td>[gun]</td>\n",
       "      <td>do-nothing</td>\n",
       "      <td>gzip</td>\n",
       "      <td>314525.0</td>\n",
       "      <td>0</td>\n",
       "    </tr>\n",
       "    <tr>\n",
       "      <th>3</th>\n",
       "      <td>GUARANI_EASTERN_BOLIVIAN</td>\n",
       "      <td>crg</td>\n",
       "      <td>do-nothing</td>\n",
       "      <td>gzip</td>\n",
       "      <td>317348.0</td>\n",
       "      <td>0</td>\n",
       "    </tr>\n",
       "    <tr>\n",
       "      <th>4</th>\n",
       "      <td>GUARANI_WESTERN_BOLIVIAN</td>\n",
       "      <td>[gnw]</td>\n",
       "      <td>do-nothing</td>\n",
       "      <td>gzip</td>\n",
       "      <td>320375.0</td>\n",
       "      <td>0</td>\n",
       "    </tr>\n",
       "    <tr>\n",
       "      <th>5</th>\n",
       "      <td>PORTUGUESE</td>\n",
       "      <td>por</td>\n",
       "      <td>do-nothing</td>\n",
       "      <td>gzip</td>\n",
       "      <td>321657.0</td>\n",
       "      <td>0</td>\n",
       "    </tr>\n",
       "    <tr>\n",
       "      <th>6</th>\n",
       "      <td>GUARANI_PARAGUAY</td>\n",
       "      <td>gua</td>\n",
       "      <td>do-nothing</td>\n",
       "      <td>gzip</td>\n",
       "      <td>328258.0</td>\n",
       "      <td>0</td>\n",
       "    </tr>\n",
       "    <tr>\n",
       "      <th>7</th>\n",
       "      <td>MAXAKALI</td>\n",
       "      <td>max</td>\n",
       "      <td>do-nothing</td>\n",
       "      <td>gzip</td>\n",
       "      <td>331121.0</td>\n",
       "      <td>0</td>\n",
       "    </tr>\n",
       "    <tr>\n",
       "      <th>8</th>\n",
       "      <td>ENGLISH</td>\n",
       "      <td>eng</td>\n",
       "      <td>do-nothing</td>\n",
       "      <td>gzip</td>\n",
       "      <td>334854.0</td>\n",
       "      <td>0</td>\n",
       "    </tr>\n",
       "    <tr>\n",
       "      <th>9</th>\n",
       "      <td>FRENCH</td>\n",
       "      <td>fre</td>\n",
       "      <td>do-nothing</td>\n",
       "      <td>gzip</td>\n",
       "      <td>353331.0</td>\n",
       "      <td>0</td>\n",
       "    </tr>\n",
       "    <tr>\n",
       "      <th>10</th>\n",
       "      <td>GERMANY</td>\n",
       "      <td>ger</td>\n",
       "      <td>do-nothing</td>\n",
       "      <td>gzip</td>\n",
       "      <td>357406.0</td>\n",
       "      <td>0</td>\n",
       "    </tr>\n",
       "    <tr>\n",
       "      <th>11</th>\n",
       "      <td>ASHENINKA</td>\n",
       "      <td>cax</td>\n",
       "      <td>do-nothing</td>\n",
       "      <td>gzip</td>\n",
       "      <td>358043.0</td>\n",
       "      <td>0</td>\n",
       "    </tr>\n",
       "    <tr>\n",
       "      <th>12</th>\n",
       "      <td>ANCIENT_GREEK</td>\n",
       "      <td>[grc]</td>\n",
       "      <td>do-nothing</td>\n",
       "      <td>gzip</td>\n",
       "      <td>358643.0</td>\n",
       "      <td>0</td>\n",
       "    </tr>\n",
       "    <tr>\n",
       "      <th>13</th>\n",
       "      <td>PARECÍS</td>\n",
       "      <td>pex</td>\n",
       "      <td>do-nothing</td>\n",
       "      <td>gzip</td>\n",
       "      <td>361005.0</td>\n",
       "      <td>0</td>\n",
       "    </tr>\n",
       "    <tr>\n",
       "      <th>14</th>\n",
       "      <td>TUYÚCA</td>\n",
       "      <td>tuy</td>\n",
       "      <td>do-nothing</td>\n",
       "      <td>gzip</td>\n",
       "      <td>364003.0</td>\n",
       "      <td>0</td>\n",
       "    </tr>\n",
       "    <tr>\n",
       "      <th>15</th>\n",
       "      <td>SPANISH</td>\n",
       "      <td>spa</td>\n",
       "      <td>do-nothing</td>\n",
       "      <td>gzip</td>\n",
       "      <td>368668.0</td>\n",
       "      <td>0</td>\n",
       "    </tr>\n",
       "    <tr>\n",
       "      <th>16</th>\n",
       "      <td>KAIGANG</td>\n",
       "      <td>kng</td>\n",
       "      <td>do-nothing</td>\n",
       "      <td>gzip</td>\n",
       "      <td>374013.0</td>\n",
       "      <td>0</td>\n",
       "    </tr>\n",
       "    <tr>\n",
       "      <th>17</th>\n",
       "      <td>APURINÃ</td>\n",
       "      <td>apu</td>\n",
       "      <td>do-nothing</td>\n",
       "      <td>gzip</td>\n",
       "      <td>382273.0</td>\n",
       "      <td>0</td>\n",
       "    </tr>\n",
       "    <tr>\n",
       "      <th>18</th>\n",
       "      <td>APALAÍ</td>\n",
       "      <td>apl</td>\n",
       "      <td>do-nothing</td>\n",
       "      <td>gzip</td>\n",
       "      <td>401889.0</td>\n",
       "      <td>0</td>\n",
       "    </tr>\n",
       "    <tr>\n",
       "      <th>19</th>\n",
       "      <td>NADEB</td>\n",
       "      <td>nad</td>\n",
       "      <td>do-nothing</td>\n",
       "      <td>gzip</td>\n",
       "      <td>407727.0</td>\n",
       "      <td>0</td>\n",
       "    </tr>\n",
       "    <tr>\n",
       "      <th>20</th>\n",
       "      <td>MATSÉS</td>\n",
       "      <td>myr</td>\n",
       "      <td>do-nothing</td>\n",
       "      <td>gzip</td>\n",
       "      <td>412083.0</td>\n",
       "      <td>0</td>\n",
       "    </tr>\n",
       "    <tr>\n",
       "      <th>21</th>\n",
       "      <td>WAPISHANA</td>\n",
       "      <td>wps</td>\n",
       "      <td>do-nothing</td>\n",
       "      <td>gzip</td>\n",
       "      <td>423706.0</td>\n",
       "      <td>0</td>\n",
       "    </tr>\n",
       "    <tr>\n",
       "      <th>22</th>\n",
       "      <td>MACUSHI</td>\n",
       "      <td>mac</td>\n",
       "      <td>do-nothing</td>\n",
       "      <td>gzip</td>\n",
       "      <td>446181.0</td>\n",
       "      <td>0</td>\n",
       "    </tr>\n",
       "    <tr>\n",
       "      <th>23</th>\n",
       "      <td>PALIKÚR</td>\n",
       "      <td>plk</td>\n",
       "      <td>do-nothing</td>\n",
       "      <td>gzip</td>\n",
       "      <td>461850.0</td>\n",
       "      <td>0</td>\n",
       "    </tr>\n",
       "    <tr>\n",
       "      <th>24</th>\n",
       "      <td>TERÊNA</td>\n",
       "      <td>trn</td>\n",
       "      <td>do-nothing</td>\n",
       "      <td>gzip</td>\n",
       "      <td>464273.0</td>\n",
       "      <td>0</td>\n",
       "    </tr>\n",
       "    <tr>\n",
       "      <th>25</th>\n",
       "      <td>YANOMAMI</td>\n",
       "      <td>[guu]</td>\n",
       "      <td>do-nothing</td>\n",
       "      <td>gzip</td>\n",
       "      <td>467114.0</td>\n",
       "      <td>0</td>\n",
       "    </tr>\n",
       "    <tr>\n",
       "      <th>26</th>\n",
       "      <td>SATERÉ-MAWÉ</td>\n",
       "      <td>[mav]</td>\n",
       "      <td>do-nothing</td>\n",
       "      <td>gzip</td>\n",
       "      <td>583628.0</td>\n",
       "      <td>0</td>\n",
       "    </tr>\n",
       "  </tbody>\n",
       "</table>\n",
       "</div>"
      ],
      "text/plain": [
       "                    language   wals      metric algorithm     value  run_id\n",
       "0                  NHEENGATU  [yrl]  do-nothing      gzip  281693.0       0\n",
       "1                   JAMAMADI    jmm  do-nothing      gzip  304213.0       0\n",
       "2               GUARANI_MBYA  [gun]  do-nothing      gzip  314525.0       0\n",
       "3   GUARANI_EASTERN_BOLIVIAN    crg  do-nothing      gzip  317348.0       0\n",
       "4   GUARANI_WESTERN_BOLIVIAN  [gnw]  do-nothing      gzip  320375.0       0\n",
       "5                 PORTUGUESE    por  do-nothing      gzip  321657.0       0\n",
       "6           GUARANI_PARAGUAY    gua  do-nothing      gzip  328258.0       0\n",
       "7                   MAXAKALI    max  do-nothing      gzip  331121.0       0\n",
       "8                    ENGLISH    eng  do-nothing      gzip  334854.0       0\n",
       "9                     FRENCH    fre  do-nothing      gzip  353331.0       0\n",
       "10                   GERMANY    ger  do-nothing      gzip  357406.0       0\n",
       "11                 ASHENINKA    cax  do-nothing      gzip  358043.0       0\n",
       "12             ANCIENT_GREEK  [grc]  do-nothing      gzip  358643.0       0\n",
       "13                   PARECÍS    pex  do-nothing      gzip  361005.0       0\n",
       "14                    TUYÚCA    tuy  do-nothing      gzip  364003.0       0\n",
       "15                   SPANISH    spa  do-nothing      gzip  368668.0       0\n",
       "16                   KAIGANG    kng  do-nothing      gzip  374013.0       0\n",
       "17                   APURINÃ    apu  do-nothing      gzip  382273.0       0\n",
       "18                   APALAÍ    apl  do-nothing      gzip  401889.0       0\n",
       "19                     NADEB    nad  do-nothing      gzip  407727.0       0\n",
       "20                    MATSÉS    myr  do-nothing      gzip  412083.0       0\n",
       "21                 WAPISHANA    wps  do-nothing      gzip  423706.0       0\n",
       "22                   MACUSHI    mac  do-nothing      gzip  446181.0       0\n",
       "23                   PALIKÚR    plk  do-nothing      gzip  461850.0       0\n",
       "24                    TERÊNA    trn  do-nothing      gzip  464273.0       0\n",
       "25                  YANOMAMI  [guu]  do-nothing      gzip  467114.0       0\n",
       "26               SATERÉ-MAWÉ  [mav]  do-nothing      gzip  583628.0       0"
      ]
     },
     "execution_count": 5,
     "metadata": {},
     "output_type": "execute_result"
    }
   ],
   "source": [
    "raw_gzip.drop_duplicates(\"language\").sort_values(\"value\").reset_index().drop(columns=\"index\")"
   ]
  },
  {
   "cell_type": "code",
   "execution_count": 6,
   "id": "48151642-a775-4522-a875-9a591b058ad8",
   "metadata": {},
   "outputs": [
    {
     "data": {
      "text/html": [
       "<div>\n",
       "<style scoped>\n",
       "    .dataframe tbody tr th:only-of-type {\n",
       "        vertical-align: middle;\n",
       "    }\n",
       "\n",
       "    .dataframe tbody tr th {\n",
       "        vertical-align: top;\n",
       "    }\n",
       "\n",
       "    .dataframe thead th {\n",
       "        text-align: right;\n",
       "    }\n",
       "</style>\n",
       "<table border=\"1\" class=\"dataframe\">\n",
       "  <thead>\n",
       "    <tr style=\"text-align: right;\">\n",
       "      <th></th>\n",
       "      <th>language</th>\n",
       "      <th>wals</th>\n",
       "      <th>metric</th>\n",
       "      <th>algorithm</th>\n",
       "      <th>value</th>\n",
       "      <th>run_id</th>\n",
       "    </tr>\n",
       "  </thead>\n",
       "  <tbody>\n",
       "    <tr>\n",
       "      <th>0</th>\n",
       "      <td>NHEENGATU</td>\n",
       "      <td>[yrl]</td>\n",
       "      <td>do-nothing</td>\n",
       "      <td>bz2</td>\n",
       "      <td>171128.0</td>\n",
       "      <td>0</td>\n",
       "    </tr>\n",
       "    <tr>\n",
       "      <th>1</th>\n",
       "      <td>JAMAMADI</td>\n",
       "      <td>jmm</td>\n",
       "      <td>do-nothing</td>\n",
       "      <td>bz2</td>\n",
       "      <td>185724.0</td>\n",
       "      <td>0</td>\n",
       "    </tr>\n",
       "    <tr>\n",
       "      <th>2</th>\n",
       "      <td>GUARANI_MBYA</td>\n",
       "      <td>[gun]</td>\n",
       "      <td>do-nothing</td>\n",
       "      <td>bz2</td>\n",
       "      <td>193991.0</td>\n",
       "      <td>0</td>\n",
       "    </tr>\n",
       "    <tr>\n",
       "      <th>3</th>\n",
       "      <td>GUARANI_EASTERN_BOLIVIAN</td>\n",
       "      <td>crg</td>\n",
       "      <td>do-nothing</td>\n",
       "      <td>bz2</td>\n",
       "      <td>197677.0</td>\n",
       "      <td>0</td>\n",
       "    </tr>\n",
       "    <tr>\n",
       "      <th>4</th>\n",
       "      <td>GUARANI_WESTERN_BOLIVIAN</td>\n",
       "      <td>[gnw]</td>\n",
       "      <td>do-nothing</td>\n",
       "      <td>bz2</td>\n",
       "      <td>198958.0</td>\n",
       "      <td>0</td>\n",
       "    </tr>\n",
       "    <tr>\n",
       "      <th>5</th>\n",
       "      <td>GUARANI_PARAGUAY</td>\n",
       "      <td>gua</td>\n",
       "      <td>do-nothing</td>\n",
       "      <td>bz2</td>\n",
       "      <td>203361.0</td>\n",
       "      <td>0</td>\n",
       "    </tr>\n",
       "    <tr>\n",
       "      <th>6</th>\n",
       "      <td>ENGLISH</td>\n",
       "      <td>eng</td>\n",
       "      <td>do-nothing</td>\n",
       "      <td>bz2</td>\n",
       "      <td>204570.0</td>\n",
       "      <td>0</td>\n",
       "    </tr>\n",
       "    <tr>\n",
       "      <th>7</th>\n",
       "      <td>PORTUGUESE</td>\n",
       "      <td>por</td>\n",
       "      <td>do-nothing</td>\n",
       "      <td>bz2</td>\n",
       "      <td>205972.0</td>\n",
       "      <td>0</td>\n",
       "    </tr>\n",
       "    <tr>\n",
       "      <th>8</th>\n",
       "      <td>MAXAKALI</td>\n",
       "      <td>max</td>\n",
       "      <td>do-nothing</td>\n",
       "      <td>bz2</td>\n",
       "      <td>207666.0</td>\n",
       "      <td>0</td>\n",
       "    </tr>\n",
       "    <tr>\n",
       "      <th>9</th>\n",
       "      <td>FRENCH</td>\n",
       "      <td>fre</td>\n",
       "      <td>do-nothing</td>\n",
       "      <td>bz2</td>\n",
       "      <td>217204.0</td>\n",
       "      <td>0</td>\n",
       "    </tr>\n",
       "    <tr>\n",
       "      <th>10</th>\n",
       "      <td>GERMANY</td>\n",
       "      <td>ger</td>\n",
       "      <td>do-nothing</td>\n",
       "      <td>bz2</td>\n",
       "      <td>219739.0</td>\n",
       "      <td>0</td>\n",
       "    </tr>\n",
       "    <tr>\n",
       "      <th>11</th>\n",
       "      <td>TUYÚCA</td>\n",
       "      <td>tuy</td>\n",
       "      <td>do-nothing</td>\n",
       "      <td>bz2</td>\n",
       "      <td>220280.0</td>\n",
       "      <td>0</td>\n",
       "    </tr>\n",
       "    <tr>\n",
       "      <th>12</th>\n",
       "      <td>ASHENINKA</td>\n",
       "      <td>cax</td>\n",
       "      <td>do-nothing</td>\n",
       "      <td>bz2</td>\n",
       "      <td>222184.0</td>\n",
       "      <td>0</td>\n",
       "    </tr>\n",
       "    <tr>\n",
       "      <th>13</th>\n",
       "      <td>PARECÍS</td>\n",
       "      <td>pex</td>\n",
       "      <td>do-nothing</td>\n",
       "      <td>bz2</td>\n",
       "      <td>225560.0</td>\n",
       "      <td>0</td>\n",
       "    </tr>\n",
       "    <tr>\n",
       "      <th>14</th>\n",
       "      <td>ANCIENT_GREEK</td>\n",
       "      <td>[grc]</td>\n",
       "      <td>do-nothing</td>\n",
       "      <td>bz2</td>\n",
       "      <td>227408.0</td>\n",
       "      <td>0</td>\n",
       "    </tr>\n",
       "    <tr>\n",
       "      <th>15</th>\n",
       "      <td>SPANISH</td>\n",
       "      <td>spa</td>\n",
       "      <td>do-nothing</td>\n",
       "      <td>bz2</td>\n",
       "      <td>230082.0</td>\n",
       "      <td>0</td>\n",
       "    </tr>\n",
       "    <tr>\n",
       "      <th>16</th>\n",
       "      <td>KAIGANG</td>\n",
       "      <td>kng</td>\n",
       "      <td>do-nothing</td>\n",
       "      <td>bz2</td>\n",
       "      <td>232656.0</td>\n",
       "      <td>0</td>\n",
       "    </tr>\n",
       "    <tr>\n",
       "      <th>17</th>\n",
       "      <td>NADEB</td>\n",
       "      <td>nad</td>\n",
       "      <td>do-nothing</td>\n",
       "      <td>bz2</td>\n",
       "      <td>241837.0</td>\n",
       "      <td>0</td>\n",
       "    </tr>\n",
       "    <tr>\n",
       "      <th>18</th>\n",
       "      <td>APURINÃ</td>\n",
       "      <td>apu</td>\n",
       "      <td>do-nothing</td>\n",
       "      <td>bz2</td>\n",
       "      <td>242668.0</td>\n",
       "      <td>0</td>\n",
       "    </tr>\n",
       "    <tr>\n",
       "      <th>19</th>\n",
       "      <td>MATSÉS</td>\n",
       "      <td>myr</td>\n",
       "      <td>do-nothing</td>\n",
       "      <td>bz2</td>\n",
       "      <td>244501.0</td>\n",
       "      <td>0</td>\n",
       "    </tr>\n",
       "    <tr>\n",
       "      <th>20</th>\n",
       "      <td>APALAÍ</td>\n",
       "      <td>apl</td>\n",
       "      <td>do-nothing</td>\n",
       "      <td>bz2</td>\n",
       "      <td>244961.0</td>\n",
       "      <td>0</td>\n",
       "    </tr>\n",
       "    <tr>\n",
       "      <th>21</th>\n",
       "      <td>WAPISHANA</td>\n",
       "      <td>wps</td>\n",
       "      <td>do-nothing</td>\n",
       "      <td>bz2</td>\n",
       "      <td>263696.0</td>\n",
       "      <td>0</td>\n",
       "    </tr>\n",
       "    <tr>\n",
       "      <th>22</th>\n",
       "      <td>MACUSHI</td>\n",
       "      <td>mac</td>\n",
       "      <td>do-nothing</td>\n",
       "      <td>bz2</td>\n",
       "      <td>269667.0</td>\n",
       "      <td>0</td>\n",
       "    </tr>\n",
       "    <tr>\n",
       "      <th>23</th>\n",
       "      <td>PALIKÚR</td>\n",
       "      <td>plk</td>\n",
       "      <td>do-nothing</td>\n",
       "      <td>bz2</td>\n",
       "      <td>272100.0</td>\n",
       "      <td>0</td>\n",
       "    </tr>\n",
       "    <tr>\n",
       "      <th>24</th>\n",
       "      <td>TERÊNA</td>\n",
       "      <td>trn</td>\n",
       "      <td>do-nothing</td>\n",
       "      <td>bz2</td>\n",
       "      <td>273954.0</td>\n",
       "      <td>0</td>\n",
       "    </tr>\n",
       "    <tr>\n",
       "      <th>25</th>\n",
       "      <td>YANOMAMI</td>\n",
       "      <td>[guu]</td>\n",
       "      <td>do-nothing</td>\n",
       "      <td>bz2</td>\n",
       "      <td>276517.0</td>\n",
       "      <td>0</td>\n",
       "    </tr>\n",
       "    <tr>\n",
       "      <th>26</th>\n",
       "      <td>SATERÉ-MAWÉ</td>\n",
       "      <td>[mav]</td>\n",
       "      <td>do-nothing</td>\n",
       "      <td>bz2</td>\n",
       "      <td>364902.0</td>\n",
       "      <td>0</td>\n",
       "    </tr>\n",
       "  </tbody>\n",
       "</table>\n",
       "</div>"
      ],
      "text/plain": [
       "                    language   wals      metric algorithm     value  run_id\n",
       "0                  NHEENGATU  [yrl]  do-nothing       bz2  171128.0       0\n",
       "1                   JAMAMADI    jmm  do-nothing       bz2  185724.0       0\n",
       "2               GUARANI_MBYA  [gun]  do-nothing       bz2  193991.0       0\n",
       "3   GUARANI_EASTERN_BOLIVIAN    crg  do-nothing       bz2  197677.0       0\n",
       "4   GUARANI_WESTERN_BOLIVIAN  [gnw]  do-nothing       bz2  198958.0       0\n",
       "5           GUARANI_PARAGUAY    gua  do-nothing       bz2  203361.0       0\n",
       "6                    ENGLISH    eng  do-nothing       bz2  204570.0       0\n",
       "7                 PORTUGUESE    por  do-nothing       bz2  205972.0       0\n",
       "8                   MAXAKALI    max  do-nothing       bz2  207666.0       0\n",
       "9                     FRENCH    fre  do-nothing       bz2  217204.0       0\n",
       "10                   GERMANY    ger  do-nothing       bz2  219739.0       0\n",
       "11                    TUYÚCA    tuy  do-nothing       bz2  220280.0       0\n",
       "12                 ASHENINKA    cax  do-nothing       bz2  222184.0       0\n",
       "13                   PARECÍS    pex  do-nothing       bz2  225560.0       0\n",
       "14             ANCIENT_GREEK  [grc]  do-nothing       bz2  227408.0       0\n",
       "15                   SPANISH    spa  do-nothing       bz2  230082.0       0\n",
       "16                   KAIGANG    kng  do-nothing       bz2  232656.0       0\n",
       "17                     NADEB    nad  do-nothing       bz2  241837.0       0\n",
       "18                   APURINÃ    apu  do-nothing       bz2  242668.0       0\n",
       "19                    MATSÉS    myr  do-nothing       bz2  244501.0       0\n",
       "20                   APALAÍ    apl  do-nothing       bz2  244961.0       0\n",
       "21                 WAPISHANA    wps  do-nothing       bz2  263696.0       0\n",
       "22                   MACUSHI    mac  do-nothing       bz2  269667.0       0\n",
       "23                   PALIKÚR    plk  do-nothing       bz2  272100.0       0\n",
       "24                    TERÊNA    trn  do-nothing       bz2  273954.0       0\n",
       "25                  YANOMAMI  [guu]  do-nothing       bz2  276517.0       0\n",
       "26               SATERÉ-MAWÉ  [mav]  do-nothing       bz2  364902.0       0"
      ]
     },
     "execution_count": 6,
     "metadata": {},
     "output_type": "execute_result"
    }
   ],
   "source": [
    "raw_bz2.drop_duplicates(\"language\").sort_values(\"value\").reset_index().drop(columns=\"index\")"
   ]
  },
  {
   "cell_type": "markdown",
   "id": "0b1b1a8b-1011-474e-b0c4-5c3c81004b84",
   "metadata": {},
   "source": [
    "# H2' Morphological Complexity, tokens and types\n",
    "a) There exists a **positive** correlation between morphological complexity and **the number of types** in a sample.\n",
    "\n",
    "b) There exists a **negative** correlation between morphological complexity and **the number of tokens** in a sample."
   ]
  },
  {
   "cell_type": "code",
   "execution_count": 7,
   "id": "043c333b-6af4-49cf-a8cc-2a592a94e387",
   "metadata": {},
   "outputs": [
    {
     "name": "stdout",
     "output_type": "stream",
     "text": [
      "Gzip results:\n",
      "a) 0.9171\n",
      "b) -0.7652\n",
      "\n",
      "Bz2 results:\n",
      "a) 0.8632\n",
      "b) -0.7748\n"
     ]
    }
   ],
   "source": [
    "d = compute_numtypes_numtokens(bibles)\n",
    "\n",
    "tdf = pd.DataFrame(d).sort_values('language')\n",
    "\n",
    "repwords_gzip = fetch_algorithm(df, 'rep-words', 'gzip')\n",
    "repwords_bz2 = fetch_algorithm(df, 'rep-words', 'bz2')\n",
    "\n",
    "print(\"Gzip results:\")\n",
    "print(\"a) %0.4f\" % tdf.types.corr(repwords_gzip.value, method='pearson'))\n",
    "print(\"b) %0.4f\" % tdf.tokens.corr(repwords_gzip.value, method='pearson'))\n",
    "\n",
    "print(\"\\nBz2 results:\")\n",
    "print(\"a) %0.4f\" % tdf.types.corr(repwords_bz2.value, method='pearson'))\n",
    "print(\"b) %0.4f\" % tdf.tokens.corr(repwords_bz2.value, method='pearson'))"
   ]
  },
  {
   "cell_type": "markdown",
   "id": "70585133-c3c7-4dda-a726-2cd6d1d8f62c",
   "metadata": {},
   "source": [
    "# H3' Compression algorithm approximates Kolgomorov Complexity\n",
    "The results are equivalent wheter using **Gzip** or **Bz2**."
   ]
  },
  {
   "cell_type": "code",
   "execution_count": 8,
   "id": "14246f79-65dd-4f29-bde7-228c36d15c26",
   "metadata": {},
   "outputs": [
    {
     "name": "stdout",
     "output_type": "stream",
     "text": [
      "Correlation between Gzip and Bz2 is 0.9896\n"
     ]
    }
   ],
   "source": [
    "gzipi = get_indexes(raw_gzip)\n",
    "bz2i = get_indexes(raw_bz2)\n",
    "\n",
    "gzip_series = pd.Series([gzipi[x] for x in sorted(gzipi) ])\n",
    "bz2_series = pd.Series([bz2i[x] for x in sorted(bz2i)])\n",
    "\n",
    "print(\"Correlation between Gzip and Bz2 is %0.4f\" % gzip_series.corr(bz2_series, method='pearson'))"
   ]
  },
  {
   "cell_type": "markdown",
   "id": "ca9dd9d2-0fd7-4b0c-9ae3-2437a9e692a9",
   "metadata": {},
   "source": [
    "# H4' Content invariance\n",
    "For any complexity measure, Bible complexity should be the same (independenlty of translation).\n",
    "In this case, we should observe a smaller variance in size in bytes of the compressed texts in comparison with\n",
    "the uncompressed texts."
   ]
  },
  {
   "cell_type": "code",
   "execution_count": 9,
   "id": "54a4c43b-51d1-4bad-a2d9-69c982ec7ec7",
   "metadata": {},
   "outputs": [],
   "source": [
    "def deviation_across_languages(df):\n",
    "    df2 = df.loc[:, :]\n",
    "    by = [\"metric\", \"algorithm\"]\n",
    "    m = df.groupby(by=by).value.transform(\"mean\")\n",
    "    s = df.groupby(by=by).value.transform(\"std\")\n",
    "    df2['mean'] = m\n",
    "    df2['std'] = s\n",
    "    return df2.sort_values('language').reset_index().drop(columns='index')"
   ]
  },
  {
   "cell_type": "code",
   "execution_count": 10,
   "id": "df94e6c5-d310-420e-8b6e-26b3694f49d4",
   "metadata": {},
   "outputs": [],
   "source": [
    "daldf = deviation_across_languages(df)"
   ]
  },
  {
   "cell_type": "code",
   "execution_count": 11,
   "id": "3435cb77-14ea-4306-90b4-446cdf34c3b2",
   "metadata": {},
   "outputs": [
    {
     "data": {
      "text/plain": [
       "280885900237.6318"
      ]
     },
     "execution_count": 11,
     "metadata": {},
     "output_type": "execute_result"
    }
   ],
   "source": [
    "daldf[(daldf.metric == 'do-nothing') & (daldf.algorithm == 'none')]['std'].unique().item()**2"
   ]
  },
  {
   "cell_type": "code",
   "execution_count": 12,
   "id": "fc0b742b-52fb-4ab2-b43e-b807783dc9b0",
   "metadata": {},
   "outputs": [
    {
     "data": {
      "text/plain": [
       "4160518808.104096"
      ]
     },
     "execution_count": 12,
     "metadata": {},
     "output_type": "execute_result"
    }
   ],
   "source": [
    "daldf[(daldf.metric == 'do-nothing') & (daldf.algorithm == 'gzip')]['std'].unique().item()**2"
   ]
  },
  {
   "cell_type": "code",
   "execution_count": 13,
   "id": "fdaf90c5-7134-4946-a1d3-0c9b4245f50e",
   "metadata": {},
   "outputs": [
    {
     "data": {
      "text/plain": [
       "1451428080.3221836"
      ]
     },
     "execution_count": 13,
     "metadata": {},
     "output_type": "execute_result"
    }
   ],
   "source": [
    "daldf[(daldf.metric == 'do-nothing') & (daldf.algorithm == 'bz2')]['std'].unique().item()**2"
   ]
  },
  {
   "cell_type": "code",
   "execution_count": 14,
   "id": "56486ce5-7770-43f6-b8f4-3ce3784b8839",
   "metadata": {},
   "outputs": [
    {
     "data": {
      "text/plain": [
       "<Axes: xlabel='value', ylabel='Count'>"
      ]
     },
     "execution_count": 14,
     "metadata": {},
     "output_type": "execute_result"
    },
    {
     "data": {
      "image/png": "[encoded data removed]",
      "text/plain": [
       "<Figure size 640x480 with 1 Axes>"
      ]
     },
     "metadata": {},
     "output_type": "display_data"
    }
   ],
   "source": [
    "sns.histplot(df[(df.metric == 'do-nothing') & (df.algorithm == 'none')], x='value', bins=10)\n",
    "sns.histplot(df[(df.metric == 'do-nothing') & (df.algorithm == 'gzip')], x='value', bins=10)\n",
    "sns.histplot(df[(df.metric == 'do-nothing') & (df.algorithm == 'bz2')], x='value', bins=10)\n",
    "#TODO: Multihistograma"
   ]
  },
  {
   "cell_type": "markdown",
   "id": "a05f384d-8df8-422c-9165-ab9ef81a7835",
   "metadata": {},
   "source": [
    "# H6 Morphology and Syntatic trade-off\n",
    "Languages that have a higher morphological complexity show a smaller syntatic complexity and vice-versa."
   ]
  },
  {
   "cell_type": "code",
   "execution_count": 15,
   "id": "aa55b44b-15a0-4a21-a508-620b38591a11",
   "metadata": {},
   "outputs": [],
   "source": [
    "del_chars_gzip = fetch_algorithm(df, 'del-chars', 'gzip') # Morphological\n",
    "del_chars_bz2  = fetch_algorithm(df, 'del-chars', 'bz2')\n",
    "\n",
    "del_words_gzip = fetch_algorithm(df, 'del-words', 'gzip') # Syntatic\n",
    "del_words_bz2 = fetch_algorithm(df, 'del-words', 'bz2')"
   ]
  },
  {
   "cell_type": "markdown",
   "id": "643e22d1-2190-4bb9-8f27-fc63fcd2a427",
   "metadata": {
    "jp-MarkdownHeadingCollapsed": true
   },
   "source": [
    "## Caution\n",
    "To measure this we can not rely on direct correlation. This is because both complexity measures\n",
    "are computed in the same way, which gives a positive correlation. So the proper way of doing the measure\n",
    "is computing the correlation between the residuals of two linear regressions one from morphological to syntatic, and other from syntatic to morphological."
   ]
  },
  {
   "cell_type": "code",
   "execution_count": 16,
   "id": "4f3fd862-6981-4b9e-88d7-df2a9f91ebe1",
   "metadata": {},
   "outputs": [
    {
     "data": {
      "text/plain": [
       "0.4302155903439301"
      ]
     },
     "execution_count": 16,
     "metadata": {},
     "output_type": "execute_result"
    }
   ],
   "source": [
    "del_chars_gzip['mean'].corr(del_words_gzip['mean'], method='pearson')"
   ]
  },
  {
   "cell_type": "code",
   "execution_count": 17,
   "id": "87d3a01b-c92e-4d43-a9f0-84d653c42b12",
   "metadata": {},
   "outputs": [
    {
     "data": {
      "text/plain": [
       "0.23994372718000787"
      ]
     },
     "execution_count": 17,
     "metadata": {},
     "output_type": "execute_result"
    }
   ],
   "source": [
    "del_chars_bz2['mean'].corr(del_words_bz2['mean'], method='pearson')"
   ]
  },
  {
   "cell_type": "code",
   "execution_count": 18,
   "id": "3feed02f-907d-45c3-98d4-bdfe741a0451",
   "metadata": {},
   "outputs": [],
   "source": [
    "indo_european_languages = (\"ANCIENT_GREEK\", \"ENGLISH\", \"FRENCH\", \"GERMAN\", \"PORTUGUESE\", \"SPANISH\")"
   ]
  },
  {
   "cell_type": "code",
   "execution_count": 19,
   "id": "362e58cf-8482-435f-acd7-3c9cafcf578a",
   "metadata": {},
   "outputs": [
    {
     "data": {
      "text/plain": [
       "<matplotlib.collections.PathCollection at 0x7f762387b4d0>"
      ]
     },
     "execution_count": 19,
     "metadata": {},
     "output_type": "execute_result"
    },
    {
     "data": {
      "image/png": "[encoded data removed]",
      "text/plain": [
       "<Figure size 640x480 with 1 Axes>"
      ]
     },
     "metadata": {},
     "output_type": "display_data"
    }
   ],
   "source": [
    "plt.scatter(del_chars_gzip[del_chars_gzip.language.isin(indo_european_languages)]['mean'],\n",
    "            del_words_gzip[del_words_gzip.language.isin(indo_european_languages)]['mean'])"
   ]
  },
  {
   "cell_type": "code",
   "execution_count": 20,
   "id": "e45d0ce9-6b36-4ce3-b51e-6e4ddcae2b39",
   "metadata": {},
   "outputs": [
    {
     "data": {
      "text/plain": [
       "0.9758450786269959"
      ]
     },
     "execution_count": 20,
     "metadata": {},
     "output_type": "execute_result"
    }
   ],
   "source": [
    "del_chars_gzip[del_chars_gzip.language.isin(indo_european_languages)]['mean'].corr(del_words_gzip[del_words_gzip.language.isin(indo_european_languages)]['mean'], method='pearson')"
   ]
  },
  {
   "cell_type": "code",
   "execution_count": 21,
   "id": "dbb27ebe-e6ba-49ad-a8f3-82b85111c2ed",
   "metadata": {},
   "outputs": [
    {
     "data": {
      "text/plain": [
       "0.8999999999999998"
      ]
     },
     "execution_count": 21,
     "metadata": {},
     "output_type": "execute_result"
    }
   ],
   "source": [
    "del_chars_gzip[del_chars_gzip.language.isin(indo_european_languages)]['mean'].corr(del_words_gzip[del_words_gzip.language.isin(indo_european_languages)]['mean'], method='spearman')"
   ]
  },
  {
   "cell_type": "code",
   "execution_count": 22,
   "id": "25ac2eb0-cfa4-48bc-8ba9-5e0877f9fd3f",
   "metadata": {},
   "outputs": [
    {
     "data": {
      "text/plain": [
       "<matplotlib.collections.PathCollection at 0x7f7622c1b4d0>"
      ]
     },
     "execution_count": 22,
     "metadata": {},
     "output_type": "execute_result"
    },
    {
     "data": {
      "image/png": "[encoded data removed]",
      "text/plain": [
       "<Figure size 640x480 with 1 Axes>"
      ]
     },
     "metadata": {},
     "output_type": "display_data"
    }
   ],
   "source": [
    "plt.scatter(del_chars_gzip['mean'],\n",
    "            del_words_gzip['mean'])"
   ]
  },
  {
   "cell_type": "markdown",
   "id": "7b8582c9-0730-4c40-a4ec-4caac9b35eed",
   "metadata": {},
   "source": [
    "## Computing the residuals"
   ]
  },
  {
   "cell_type": "code",
   "execution_count": 23,
   "id": "3ccd054c-3a88-4fb0-81df-89120670a825",
   "metadata": {},
   "outputs": [],
   "source": [
    "x = del_chars_gzip['mean'].to_numpy()\n",
    "y = del_words_gzip['mean'].to_numpy()\n",
    "\n",
    "ordered_index = x.argsort()\n",
    "# Order the points so points with lower x appears first\n",
    "y = y[ordered_index]\n",
    "x = x[ordered_index]\n",
    "\n",
    "# Follow the docs at https://numpy.org/doc/stable/reference/generated/numpy.linalg.lstsq.html\n",
    "A = np.vstack([x, np.ones(len(x))]).T\n",
    "B = np.vstack([y, np.ones(len(y))]).T\n",
    "\n",
    "mx, cx = np.linalg.lstsq(A, y, rcond=None)[0]\n",
    "my, cy = np.linalg.lstsq(B, x, rcond=None)[0]"
   ]
  },
  {
   "cell_type": "code",
   "execution_count": 24,
   "id": "ff4f5cd0-433f-4228-959b-fae5d5d9bf04",
   "metadata": {},
   "outputs": [
    {
     "data": {
      "text/plain": [
       "[<matplotlib.lines.Line2D at 0x7f762d186750>]"
      ]
     },
     "execution_count": 24,
     "metadata": {},
     "output_type": "execute_result"
    },
    {
     "data": {
      "image/png": "[encoded data removed]",
      "text/plain": [
       "<Figure size 640x480 with 1 Axes>"
      ]
     },
     "metadata": {},
     "output_type": "display_data"
    }
   ],
   "source": [
    "plt.scatter(del_chars_gzip['mean'], del_words_gzip['mean'])\n",
    "plt.plot(x, mx*x + cx, 'r', label='Fitted line')\n",
    "plt.plot(my*y + cy, y, 'b', label='Other fitted line')"
   ]
  },
  {
   "cell_type": "code",
   "execution_count": 26,
   "id": "030d8440-beba-4c99-bd45-dc49f4682fe2",
   "metadata": {},
   "outputs": [
    {
     "name": "stdout",
     "output_type": "stream",
     "text": [
      "The correlation between the residuals is -0.4302\n"
     ]
    }
   ],
   "source": [
    "residualsa = mx*x + cx - y\n",
    "residualsb = my*y + cy - x\n",
    "\n",
    "corr = sp.stats.pearsonr(residualsa, residualsb)\n",
    "print(\"The correlation between the residuals is %0.4f\" % corr.statistic)"
   ]
  },
  {
   "cell_type": "markdown",
   "id": "812bc366-7eac-4cf0-9ab3-735edac6e744",
   "metadata": {},
   "source": [
    "# H7 All languages are equal in a pragmatic sense\n",
    "The varinace of the pragmatic complexity should be the smallest."
   ]
  },
  {
   "cell_type": "code",
   "execution_count": 120,
   "id": "3f8812bd-2a4f-4be3-aa01-8cae471f47df",
   "metadata": {},
   "outputs": [
    {
     "data": {
      "text/html": [
       "<div>\n",
       "<style scoped>\n",
       "    .dataframe tbody tr th:only-of-type {\n",
       "        vertical-align: middle;\n",
       "    }\n",
       "\n",
       "    .dataframe tbody tr th {\n",
       "        vertical-align: top;\n",
       "    }\n",
       "\n",
       "    .dataframe thead th {\n",
       "        text-align: right;\n",
       "    }\n",
       "</style>\n",
       "<table border=\"1\" class=\"dataframe\">\n",
       "  <thead>\n",
       "    <tr style=\"text-align: right;\">\n",
       "      <th></th>\n",
       "      <th>metric</th>\n",
       "      <th>algorithm</th>\n",
       "      <th>value</th>\n",
       "      <th>mean</th>\n",
       "      <th>var</th>\n",
       "    </tr>\n",
       "  </thead>\n",
       "  <tbody>\n",
       "    <tr>\n",
       "      <th>129</th>\n",
       "      <td>del-verses</td>\n",
       "      <td>gzip</td>\n",
       "      <td>0.810239</td>\n",
       "      <td>0.808395</td>\n",
       "      <td>8.503942e-07</td>\n",
       "    </tr>\n",
       "    <tr>\n",
       "      <th>136</th>\n",
       "      <td>del-verses</td>\n",
       "      <td>bz2</td>\n",
       "      <td>0.806021</td>\n",
       "      <td>0.812185</td>\n",
       "      <td>7.990461e-05</td>\n",
       "    </tr>\n",
       "    <tr>\n",
       "      <th>3</th>\n",
       "      <td>del-words</td>\n",
       "      <td>gzip</td>\n",
       "      <td>0.850321</td>\n",
       "      <td>0.850346</td>\n",
       "      <td>3.922745e-04</td>\n",
       "    </tr>\n",
       "    <tr>\n",
       "      <th>23</th>\n",
       "      <td>del-words</td>\n",
       "      <td>bz2</td>\n",
       "      <td>0.873248</td>\n",
       "      <td>0.884720</td>\n",
       "      <td>9.570800e-04</td>\n",
       "    </tr>\n",
       "    <tr>\n",
       "      <th>7</th>\n",
       "      <td>del-chars</td>\n",
       "      <td>gzip</td>\n",
       "      <td>1.119030</td>\n",
       "      <td>1.232088</td>\n",
       "      <td>5.062672e-03</td>\n",
       "    </tr>\n",
       "    <tr>\n",
       "      <th>4</th>\n",
       "      <td>del-chars</td>\n",
       "      <td>bz2</td>\n",
       "      <td>1.559794</td>\n",
       "      <td>1.556500</td>\n",
       "      <td>1.053137e-02</td>\n",
       "    </tr>\n",
       "    <tr>\n",
       "      <th>0</th>\n",
       "      <td>rep-words</td>\n",
       "      <td>bz2</td>\n",
       "      <td>0.944741</td>\n",
       "      <td>0.867785</td>\n",
       "      <td>1.114255e-02</td>\n",
       "    </tr>\n",
       "    <tr>\n",
       "      <th>1</th>\n",
       "      <td>rep-words</td>\n",
       "      <td>gzip</td>\n",
       "      <td>0.644307</td>\n",
       "      <td>0.864734</td>\n",
       "      <td>1.726565e-02</td>\n",
       "    </tr>\n",
       "  </tbody>\n",
       "</table>\n",
       "</div>"
      ],
      "text/plain": [
       "         metric algorithm     value      mean           var\n",
       "129  del-verses      gzip  0.810239  0.808395  8.503942e-07\n",
       "136  del-verses       bz2  0.806021  0.812185  7.990461e-05\n",
       "3     del-words      gzip  0.850321  0.850346  3.922745e-04\n",
       "23    del-words       bz2  0.873248  0.884720  9.570800e-04\n",
       "7     del-chars      gzip  1.119030  1.232088  5.062672e-03\n",
       "4     del-chars       bz2  1.559794  1.556500  1.053137e-02\n",
       "0     rep-words       bz2  0.944741  0.867785  1.114255e-02\n",
       "1     rep-words      gzip  0.644307  0.864734  1.726565e-02"
      ]
     },
     "execution_count": 120,
     "metadata": {},
     "output_type": "execute_result"
    }
   ],
   "source": [
    "df2 = fetch_all_metric_algorithms(df)\n",
    "\n",
    "do_nothing = df2.metric == 'do-nothing'\n",
    "none = df2.algorithm == 'none'\n",
    "df3 = df2.loc[~do_nothing & ~none].sort_values(\"var\").reset_index().drop(columns='index')\n",
    "m = df3.groupby(by=['algorithm', 'metric'])['mean'].transform('mean')\n",
    "v = df3.groupby(by=['algorithm', 'metric'])['mean'].transform('std')**2\n",
    "df4 = df3.copy()\n",
    "df4['mean'] = m\n",
    "df4['var'] = v\n",
    "df5 = df4.drop_duplicates([\"metric\", \"algorithm\"]).drop(columns=['language', 'wals'])\n",
    "\n",
    "df5.sort_values('var')"
   ]
  }
 ],
 "metadata": {
  "kernelspec": {
   "display_name": "Python 3 (ipykernel)",
   "language": "python",
   "name": "python3"
  },
  "language_info": {
   "codemirror_mode": {
    "name": "ipython",
    "version": 3
   },
   "file_extension": ".py",
   "mimetype": "text/x-python",
   "name": "python",
   "nbconvert_exporter": "python",
   "pygments_lexer": "ipython3",
   "version": "3.11.8"
  }
 },
 "nbformat": 4,
 "nbformat_minor": 5
}
