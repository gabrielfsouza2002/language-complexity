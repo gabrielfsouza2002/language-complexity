{
 "cells": [
  {
   "cell_type": "code",
   "execution_count": 1,
   "id": "bd60cddb-1ebc-4a28-8811-074aa8671a67",
   "metadata": {},
   "outputs": [],
   "source": [
    "%load_ext autoreload"
   ]
  },
  {
   "cell_type": "code",
   "execution_count": 2,
   "id": "a302c5b4-c7fa-437c-9d22-f5d6f021bcdb",
   "metadata": {},
   "outputs": [],
   "source": [
    "%autoreload 2"
   ]
  },
  {
   "cell_type": "code",
   "execution_count": 3,
   "id": "9a411379-d439-4ca1-a526-3c2ea2fdc53a",
   "metadata": {},
   "outputs": [],
   "source": [
    "from math import isnan\n",
    "from pathlib import Path\n",
    "import re\n",
    "import pandas as pd\n",
    "\n",
    "import sys\n",
    "sys.path.append('..')\n",
    "from src.table import Table, Key\n",
    "from src.data.loader import ExcelLoader\n",
    "from src.code.wals import language_to_wals_code\n",
    "import src.util as util"
   ]
  },
  {
   "cell_type": "code",
   "execution_count": 4,
   "id": "7ddb8082-715c-40d6-8248-9515d3de0ad8",
   "metadata": {},
   "outputs": [],
   "source": [
    "multilingual = Path('../dataset/aligned_verses_spreadsheets/')\n",
    "greek = Path('../dataset/Ancient_Greek')\n",
    "excelloader = ExcelLoader(multilingual, greek)\n",
    "table = Table(excelloader, language_to_wals_code)\n",
    "table.build()"
   ]
  },
  {
   "cell_type": "code",
   "execution_count": 5,
   "id": "243d12b5-dbe7-48d5-8360-009067e82a40",
   "metadata": {},
   "outputs": [
    {
     "name": "stdout",
     "output_type": "stream",
     "text": [
      "deleting titles from non greek\n",
      "incrementing greek verses\n",
      "ensuring verses are strings\n",
      "removing spaces from start and end\n",
      "ensuring verses end with punctuation\n",
      "removing verse number in non greek\n",
      "fixing verse order\n"
     ]
    }
   ],
   "source": [
    "table = util.apply_fixes(table)"
   ]
  },
  {
   "cell_type": "code",
   "execution_count": 6,
   "id": "1197a2f1-e851-4ffb-985d-2afb452c2ab8",
   "metadata": {},
   "outputs": [
    {
     "name": "stdout",
     "output_type": "stream",
     "text": [
      "0 Key(book='ROM', chap='ROM.1', lang='ANCIENT_GREEK', vers=1)\n",
      "1 Key(book='ROM', chap='ROM.1', lang='ANCIENT_GREEK', vers=2)\n",
      "2 Key(book='ROM', chap='ROM.1', lang='ANCIENT_GREEK', vers=3)\n",
      "3 Key(book='ROM', chap='ROM.1', lang='ANCIENT_GREEK', vers=4)\n",
      "4 Key(book='ROM', chap='ROM.1', lang='ANCIENT_GREEK', vers=5)\n",
      "5 Key(book='ROM', chap='ROM.1', lang='ANCIENT_GREEK', vers=6)\n",
      "6 Key(book='ROM', chap='ROM.1', lang='ANCIENT_GREEK', vers=7)\n"
     ]
    }
   ],
   "source": [
    "for i, (k, v) in enumerate(table.iterfix()):\n",
    "    print(i, k)\n",
    "    if i > 5: break"
   ]
  },
  {
   "cell_type": "code",
   "execution_count": 7,
   "id": "83dacb37-fff3-4b07-ba69-1deca8a8b082",
   "metadata": {},
   "outputs": [],
   "source": [
    "import pandas as pd"
   ]
  },
  {
   "cell_type": "code",
   "execution_count": 8,
   "id": "3390a4c6-870e-44f5-804c-333b0f7a37ba",
   "metadata": {},
   "outputs": [],
   "source": [
    "from collections import Counter\n",
    "from unicodedata import category as cat\n",
    "\n",
    "def table_chars(table):\n",
    "    cnt = Counter()\n",
    "    for k, v in table.iterfix():\n",
    "        cnt.update(v)\n",
    "    return cnt"
   ]
  },
  {
   "cell_type": "code",
   "execution_count": 9,
   "id": "94cc398b-1de0-4d4f-a530-d2e3845523a3",
   "metadata": {},
   "outputs": [],
   "source": [
    "char_freq = table_chars(table) "
   ]
  },
  {
   "cell_type": "code",
   "execution_count": 10,
   "id": "b2558c0a-f236-4a31-984e-3fdc95809c36",
   "metadata": {},
   "outputs": [],
   "source": [
    "#for k, v in char_freq.items():\n",
    "#    print('%r %r' % (k, v), cat(k))"
   ]
  },
  {
   "cell_type": "code",
   "execution_count": 11,
   "id": "0c76372f-d735-4a01-b409-d3d682b9ffb6",
   "metadata": {},
   "outputs": [],
   "source": [
    "def table_to_df(table):\n",
    "    cols = dict(book=[], chapter=[], language=[], language_wals_code=[], verse_number=[], text=[])\n",
    "    for k, v in table.iterfix():\n",
    "        cols['book'].append(k.book)\n",
    "        cols['chapter'].append(int(k.chap[k.chap.find('.')+1:]))\n",
    "        cols['language'].append(k.lang)\n",
    "        cols['language_wals_code'].append(language_to_wals_code[k.lang])\n",
    "        cols['verse_number'].append(k.vers)\n",
    "        cols['text'].append(''.join([c for c in v if not cat(c).startswith('C')]))\n",
    "    return pd.DataFrame(data=cols)"
   ]
  },
  {
   "cell_type": "code",
   "execution_count": 12,
   "id": "f9306da3-37a4-42b3-915e-1a4b4a03f1ba",
   "metadata": {},
   "outputs": [],
   "source": [
    "df = table_to_df(table)\n",
    "df = df[df.text.str.len() > 0]"
   ]
  },
  {
   "cell_type": "code",
   "execution_count": 13,
   "id": "b49b7718-e557-4de1-88f5-211cb17bfee2",
   "metadata": {},
   "outputs": [],
   "source": [
    "df.to_csv('../dataset/bibles.csv', index=False)"
   ]
  },
  {
   "cell_type": "code",
   "execution_count": 14,
   "id": "ac29bb63-1dec-4fab-9a81-1e1a6f7b6464",
   "metadata": {},
   "outputs": [],
   "source": [
    "df2 = pd.read_csv('../dataset/bibles.csv')"
   ]
  },
  {
   "cell_type": "code",
   "execution_count": 15,
   "id": "d2bd5d81-0427-4cca-bf84-ae1ad0e31aa8",
   "metadata": {},
   "outputs": [
    {
     "data": {
      "text/html": [
       "<div>\n",
       "<style scoped>\n",
       "    .dataframe tbody tr th:only-of-type {\n",
       "        vertical-align: middle;\n",
       "    }\n",
       "\n",
       "    .dataframe tbody tr th {\n",
       "        vertical-align: top;\n",
       "    }\n",
       "\n",
       "    .dataframe thead th {\n",
       "        text-align: right;\n",
       "    }\n",
       "</style>\n",
       "<table border=\"1\" class=\"dataframe\">\n",
       "  <thead>\n",
       "    <tr style=\"text-align: right;\">\n",
       "      <th></th>\n",
       "      <th>book</th>\n",
       "      <th>chapter</th>\n",
       "      <th>language</th>\n",
       "      <th>language_wals_code</th>\n",
       "      <th>verse_number</th>\n",
       "      <th>text</th>\n",
       "    </tr>\n",
       "  </thead>\n",
       "  <tbody>\n",
       "    <tr>\n",
       "      <th>0</th>\n",
       "      <td>ROM</td>\n",
       "      <td>1</td>\n",
       "      <td>ANCIENT_GREEK</td>\n",
       "      <td>[grc]</td>\n",
       "      <td>1</td>\n",
       "      <td>Παῦλος δοῦλος Χριστοῦ Ἰησοῦ, κλητὸς ἀπόστολος,...</td>\n",
       "    </tr>\n",
       "    <tr>\n",
       "      <th>1</th>\n",
       "      <td>ROM</td>\n",
       "      <td>1</td>\n",
       "      <td>ANCIENT_GREEK</td>\n",
       "      <td>[grc]</td>\n",
       "      <td>2</td>\n",
       "      <td>ὃ προεπηγγείλατο διὰ τῶν προφητῶν αὐτοῦ ἐν γρα...</td>\n",
       "    </tr>\n",
       "    <tr>\n",
       "      <th>2</th>\n",
       "      <td>ROM</td>\n",
       "      <td>1</td>\n",
       "      <td>ANCIENT_GREEK</td>\n",
       "      <td>[grc]</td>\n",
       "      <td>3</td>\n",
       "      <td>περὶ τοῦ υἱοῦ αὐτοῦ τοῦ γενομένου ἐκ σπέρματος...</td>\n",
       "    </tr>\n",
       "    <tr>\n",
       "      <th>3</th>\n",
       "      <td>ROM</td>\n",
       "      <td>1</td>\n",
       "      <td>ANCIENT_GREEK</td>\n",
       "      <td>[grc]</td>\n",
       "      <td>4</td>\n",
       "      <td>τοῦ ὁρισθέντος υἱοῦ θεοῦ ἐν δυνάμει κατὰ πνεῦμ...</td>\n",
       "    </tr>\n",
       "    <tr>\n",
       "      <th>4</th>\n",
       "      <td>ROM</td>\n",
       "      <td>1</td>\n",
       "      <td>ANCIENT_GREEK</td>\n",
       "      <td>[grc]</td>\n",
       "      <td>5</td>\n",
       "      <td>δι' οὗ ἐλάβομεν χάριν καὶ ἀποστολὴν εἰς ὑπακοὴ...</td>\n",
       "    </tr>\n",
       "  </tbody>\n",
       "</table>\n",
       "</div>"
      ],
      "text/plain": [
       "  book  chapter       language language_wals_code  verse_number  \\\n",
       "0  ROM        1  ANCIENT_GREEK              [grc]             1   \n",
       "1  ROM        1  ANCIENT_GREEK              [grc]             2   \n",
       "2  ROM        1  ANCIENT_GREEK              [grc]             3   \n",
       "3  ROM        1  ANCIENT_GREEK              [grc]             4   \n",
       "4  ROM        1  ANCIENT_GREEK              [grc]             5   \n",
       "\n",
       "                                                text  \n",
       "0  Παῦλος δοῦλος Χριστοῦ Ἰησοῦ, κλητὸς ἀπόστολος,...  \n",
       "1  ὃ προεπηγγείλατο διὰ τῶν προφητῶν αὐτοῦ ἐν γρα...  \n",
       "2  περὶ τοῦ υἱοῦ αὐτοῦ τοῦ γενομένου ἐκ σπέρματος...  \n",
       "3  τοῦ ὁρισθέντος υἱοῦ θεοῦ ἐν δυνάμει κατὰ πνεῦμ...  \n",
       "4  δι' οὗ ἐλάβομεν χάριν καὶ ἀποστολὴν εἰς ὑπακοὴ...  "
      ]
     },
     "execution_count": 15,
     "metadata": {},
     "output_type": "execute_result"
    }
   ],
   "source": [
    "df2.head()"
   ]
  },
  {
   "cell_type": "code",
   "execution_count": 16,
   "id": "a0044eb8-8f8b-44a8-b4e8-c824af942e46",
   "metadata": {},
   "outputs": [],
   "source": [
    "# create lcm dataset\n",
    "import src.data.util as du\n",
    "lcm_df = du.lcm(df)"
   ]
  },
  {
   "cell_type": "code",
   "execution_count": 17,
   "id": "80cbd564-e630-4341-b908-8675d77b8511",
   "metadata": {},
   "outputs": [
    {
     "data": {
      "text/html": [
       "<div>\n",
       "<style scoped>\n",
       "    .dataframe tbody tr th:only-of-type {\n",
       "        vertical-align: middle;\n",
       "    }\n",
       "\n",
       "    .dataframe tbody tr th {\n",
       "        vertical-align: top;\n",
       "    }\n",
       "\n",
       "    .dataframe thead th {\n",
       "        text-align: right;\n",
       "    }\n",
       "</style>\n",
       "<table border=\"1\" class=\"dataframe\">\n",
       "  <thead>\n",
       "    <tr style=\"text-align: right;\">\n",
       "      <th></th>\n",
       "      <th>book</th>\n",
       "      <th>chapter</th>\n",
       "      <th>verse_number</th>\n",
       "    </tr>\n",
       "  </thead>\n",
       "  <tbody>\n",
       "    <tr>\n",
       "      <th>0</th>\n",
       "      <td>MAT</td>\n",
       "      <td>1</td>\n",
       "      <td>18</td>\n",
       "    </tr>\n",
       "    <tr>\n",
       "      <th>1</th>\n",
       "      <td>MAT</td>\n",
       "      <td>1</td>\n",
       "      <td>19</td>\n",
       "    </tr>\n",
       "    <tr>\n",
       "      <th>2</th>\n",
       "      <td>MAT</td>\n",
       "      <td>1</td>\n",
       "      <td>20</td>\n",
       "    </tr>\n",
       "    <tr>\n",
       "      <th>3</th>\n",
       "      <td>MAT</td>\n",
       "      <td>1</td>\n",
       "      <td>21</td>\n",
       "    </tr>\n",
       "    <tr>\n",
       "      <th>4</th>\n",
       "      <td>MAT</td>\n",
       "      <td>2</td>\n",
       "      <td>3</td>\n",
       "    </tr>\n",
       "    <tr>\n",
       "      <th>...</th>\n",
       "      <td>...</td>\n",
       "      <td>...</td>\n",
       "      <td>...</td>\n",
       "    </tr>\n",
       "    <tr>\n",
       "      <th>2580</th>\n",
       "      <td>REV</td>\n",
       "      <td>22</td>\n",
       "      <td>15</td>\n",
       "    </tr>\n",
       "    <tr>\n",
       "      <th>2581</th>\n",
       "      <td>REV</td>\n",
       "      <td>22</td>\n",
       "      <td>16</td>\n",
       "    </tr>\n",
       "    <tr>\n",
       "      <th>2582</th>\n",
       "      <td>REV</td>\n",
       "      <td>22</td>\n",
       "      <td>17</td>\n",
       "    </tr>\n",
       "    <tr>\n",
       "      <th>2583</th>\n",
       "      <td>REV</td>\n",
       "      <td>22</td>\n",
       "      <td>20</td>\n",
       "    </tr>\n",
       "    <tr>\n",
       "      <th>2584</th>\n",
       "      <td>REV</td>\n",
       "      <td>22</td>\n",
       "      <td>21</td>\n",
       "    </tr>\n",
       "  </tbody>\n",
       "</table>\n",
       "<p>2585 rows × 3 columns</p>\n",
       "</div>"
      ],
      "text/plain": [
       "     book  chapter  verse_number\n",
       "0     MAT        1            18\n",
       "1     MAT        1            19\n",
       "2     MAT        1            20\n",
       "3     MAT        1            21\n",
       "4     MAT        2             3\n",
       "...   ...      ...           ...\n",
       "2580  REV       22            15\n",
       "2581  REV       22            16\n",
       "2582  REV       22            17\n",
       "2583  REV       22            20\n",
       "2584  REV       22            21\n",
       "\n",
       "[2585 rows x 3 columns]"
      ]
     },
     "execution_count": 17,
     "metadata": {},
     "output_type": "execute_result"
    }
   ],
   "source": [
    "lcm_df"
   ]
  },
  {
   "cell_type": "code",
   "execution_count": 18,
   "id": "8858295f-23cd-4837-a27a-8dc6fd29d20b",
   "metadata": {},
   "outputs": [],
   "source": [
    "lcm_df_full = df.merge(lcm_df, how='inner', on=['book', 'chapter', 'verse_number'])"
   ]
  },
  {
   "cell_type": "code",
   "execution_count": 19,
   "id": "d5b896ae-ab43-4aa4-8e16-990b640d0fd1",
   "metadata": {},
   "outputs": [
    {
     "data": {
      "text/html": [
       "<div>\n",
       "<style scoped>\n",
       "    .dataframe tbody tr th:only-of-type {\n",
       "        vertical-align: middle;\n",
       "    }\n",
       "\n",
       "    .dataframe tbody tr th {\n",
       "        vertical-align: top;\n",
       "    }\n",
       "\n",
       "    .dataframe thead th {\n",
       "        text-align: right;\n",
       "    }\n",
       "</style>\n",
       "<table border=\"1\" class=\"dataframe\">\n",
       "  <thead>\n",
       "    <tr style=\"text-align: right;\">\n",
       "      <th></th>\n",
       "      <th>book</th>\n",
       "      <th>chapter</th>\n",
       "      <th>language</th>\n",
       "      <th>language_wals_code</th>\n",
       "      <th>verse_number</th>\n",
       "      <th>text</th>\n",
       "    </tr>\n",
       "  </thead>\n",
       "  <tbody>\n",
       "    <tr>\n",
       "      <th>10</th>\n",
       "      <td>ROM</td>\n",
       "      <td>1</td>\n",
       "      <td>ENGLISH</td>\n",
       "      <td>eng</td>\n",
       "      <td>8</td>\n",
       "      <td>First of all, I thank my God through Jesus Chr...</td>\n",
       "    </tr>\n",
       "    <tr>\n",
       "      <th>67</th>\n",
       "      <td>ROM</td>\n",
       "      <td>1</td>\n",
       "      <td>ENGLISH</td>\n",
       "      <td>eng</td>\n",
       "      <td>12</td>\n",
       "      <td>that is, that we may be mutually comforted by ...</td>\n",
       "    </tr>\n",
       "    <tr>\n",
       "      <th>124</th>\n",
       "      <td>ROM</td>\n",
       "      <td>1</td>\n",
       "      <td>ENGLISH</td>\n",
       "      <td>eng</td>\n",
       "      <td>13</td>\n",
       "      <td>I do not want you to be unaware, brothers and ...</td>\n",
       "    </tr>\n",
       "    <tr>\n",
       "      <th>181</th>\n",
       "      <td>ROM</td>\n",
       "      <td>1</td>\n",
       "      <td>ENGLISH</td>\n",
       "      <td>eng</td>\n",
       "      <td>16</td>\n",
       "      <td>For I am not ashamed of the gospel, for it is ...</td>\n",
       "    </tr>\n",
       "    <tr>\n",
       "      <th>238</th>\n",
       "      <td>ROM</td>\n",
       "      <td>1</td>\n",
       "      <td>ENGLISH</td>\n",
       "      <td>eng</td>\n",
       "      <td>17</td>\n",
       "      <td>For the righteousness of God is revealed in th...</td>\n",
       "    </tr>\n",
       "    <tr>\n",
       "      <th>...</th>\n",
       "      <td>...</td>\n",
       "      <td>...</td>\n",
       "      <td>...</td>\n",
       "      <td>...</td>\n",
       "      <td>...</td>\n",
       "      <td>...</td>\n",
       "    </tr>\n",
       "    <tr>\n",
       "      <th>147070</th>\n",
       "      <td>LUK</td>\n",
       "      <td>12</td>\n",
       "      <td>ENGLISH</td>\n",
       "      <td>eng</td>\n",
       "      <td>51</td>\n",
       "      <td>Do you think I have come to bring peace on ear...</td>\n",
       "    </tr>\n",
       "    <tr>\n",
       "      <th>147127</th>\n",
       "      <td>LUK</td>\n",
       "      <td>12</td>\n",
       "      <td>ENGLISH</td>\n",
       "      <td>eng</td>\n",
       "      <td>52</td>\n",
       "      <td>For from now on there will be five in one hous...</td>\n",
       "    </tr>\n",
       "    <tr>\n",
       "      <th>147184</th>\n",
       "      <td>LUK</td>\n",
       "      <td>12</td>\n",
       "      <td>ENGLISH</td>\n",
       "      <td>eng</td>\n",
       "      <td>53</td>\n",
       "      <td>They will be divided, father against son and s...</td>\n",
       "    </tr>\n",
       "    <tr>\n",
       "      <th>147241</th>\n",
       "      <td>LUK</td>\n",
       "      <td>12</td>\n",
       "      <td>ENGLISH</td>\n",
       "      <td>eng</td>\n",
       "      <td>54</td>\n",
       "      <td>Jesus also said to the crowds, “When you see a...</td>\n",
       "    </tr>\n",
       "    <tr>\n",
       "      <th>147298</th>\n",
       "      <td>LUK</td>\n",
       "      <td>12</td>\n",
       "      <td>ENGLISH</td>\n",
       "      <td>eng</td>\n",
       "      <td>55</td>\n",
       "      <td>And when you see the south wind blowing, you s...</td>\n",
       "    </tr>\n",
       "  </tbody>\n",
       "</table>\n",
       "<p>2585 rows × 6 columns</p>\n",
       "</div>"
      ],
      "text/plain": [
       "       book  chapter language language_wals_code  verse_number  \\\n",
       "10      ROM        1  ENGLISH                eng             8   \n",
       "67      ROM        1  ENGLISH                eng            12   \n",
       "124     ROM        1  ENGLISH                eng            13   \n",
       "181     ROM        1  ENGLISH                eng            16   \n",
       "238     ROM        1  ENGLISH                eng            17   \n",
       "...     ...      ...      ...                ...           ...   \n",
       "147070  LUK       12  ENGLISH                eng            51   \n",
       "147127  LUK       12  ENGLISH                eng            52   \n",
       "147184  LUK       12  ENGLISH                eng            53   \n",
       "147241  LUK       12  ENGLISH                eng            54   \n",
       "147298  LUK       12  ENGLISH                eng            55   \n",
       "\n",
       "                                                     text  \n",
       "10      First of all, I thank my God through Jesus Chr...  \n",
       "67      that is, that we may be mutually comforted by ...  \n",
       "124     I do not want you to be unaware, brothers and ...  \n",
       "181     For I am not ashamed of the gospel, for it is ...  \n",
       "238     For the righteousness of God is revealed in th...  \n",
       "...                                                   ...  \n",
       "147070  Do you think I have come to bring peace on ear...  \n",
       "147127  For from now on there will be five in one hous...  \n",
       "147184  They will be divided, father against son and s...  \n",
       "147241  Jesus also said to the crowds, “When you see a...  \n",
       "147298  And when you see the south wind blowing, you s...  \n",
       "\n",
       "[2585 rows x 6 columns]"
      ]
     },
     "execution_count": 19,
     "metadata": {},
     "output_type": "execute_result"
    }
   ],
   "source": [
    "lcm_df_full[lcm_df_full.language == 'ENGLISH']"
   ]
  },
  {
   "cell_type": "code",
   "execution_count": 20,
   "id": "1f74b067-5a38-495d-a067-2ec97a6b9f7f",
   "metadata": {},
   "outputs": [],
   "source": [
    "lcm_df_full.to_csv('../dataset/bibles_lcm.csv', index=False)"
   ]
  },
  {
   "cell_type": "code",
   "execution_count": 21,
   "id": "84700de2-a6de-4fc4-ba32-5be2387e0097",
   "metadata": {},
   "outputs": [],
   "source": [
    "# create lcm90 dataset\n",
    "lcm_cut90_langs = du.lcm_with_cut(df, 0.9)"
   ]
  },
  {
   "cell_type": "code",
   "execution_count": 22,
   "id": "9f361b01-4f2b-4532-883e-7f074d3180a0",
   "metadata": {},
   "outputs": [
    {
     "data": {
      "text/plain": [
       "['TUYÚCA',\n",
       " 'MATSÉS',\n",
       " 'MACUSHI',\n",
       " 'NADEB',\n",
       " 'WAPISHANA',\n",
       " 'MAXAKALI',\n",
       " 'GUARANI_EASTERN_BOLIVIAN',\n",
       " 'GUARANI_WESTERN_BOLIVIAN',\n",
       " 'APALAÍ',\n",
       " 'KAIGANG',\n",
       " 'GUARANI_PARAGUAY',\n",
       " 'JAMAMADI',\n",
       " 'YANOMAMI',\n",
       " 'PALIKÚR',\n",
       " 'ANCIENT_GREEK',\n",
       " 'SPANISH',\n",
       " 'ENGLISH',\n",
       " 'APURINÃ',\n",
       " 'ASHENINKA',\n",
       " 'FRENCH',\n",
       " 'GUARANI_MBYA',\n",
       " 'GERMANY',\n",
       " 'PARECÍS',\n",
       " 'PORTUGUESE',\n",
       " 'TERÊNA',\n",
       " 'NHEENGATU',\n",
       " 'SATERÉ-MAWÉ']"
      ]
     },
     "execution_count": 22,
     "metadata": {},
     "output_type": "execute_result"
    }
   ],
   "source": [
    "lcm_cut90_langs"
   ]
  },
  {
   "cell_type": "code",
   "execution_count": 23,
   "id": "cd1f4d29-dafd-4053-a061-befd8511084a",
   "metadata": {},
   "outputs": [],
   "source": [
    "lcm_cut_90_df = du.intersection(df[df.language.isin(lcm_cut90_langs)])"
   ]
  },
  {
   "cell_type": "code",
   "execution_count": 24,
   "id": "c6b0e187-10eb-4914-8248-47049f287a8d",
   "metadata": {},
   "outputs": [],
   "source": [
    "lcm_cut_90_df.to_csv('../dataset/bibles_90_lcm.csv', index=False)"
   ]
  }
 ],
 "metadata": {
  "kernelspec": {
   "display_name": "Python 3 (ipykernel)",
   "language": "python",
   "name": "python3"
  },
  "language_info": {
   "codemirror_mode": {
    "name": "ipython",
    "version": 3
   },
   "file_extension": ".py",
   "mimetype": "text/x-python",
   "name": "python",
   "nbconvert_exporter": "python",
   "pygments_lexer": "ipython3",
   "version": "3.11.8"
  }
 },
 "nbformat": 4,
 "nbformat_minor": 5
}
