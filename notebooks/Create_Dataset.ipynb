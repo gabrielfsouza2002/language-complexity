{
 "cells": [
  {
   "cell_type": "code",
   "execution_count": 1,
   "id": "bd60cddb-1ebc-4a28-8811-074aa8671a67",
   "metadata": {},
   "outputs": [],
   "source": [
    "%load_ext autoreload"
   ]
  },
  {
   "cell_type": "code",
   "execution_count": 2,
   "id": "a302c5b4-c7fa-437c-9d22-f5d6f021bcdb",
   "metadata": {},
   "outputs": [],
   "source": [
    "%autoreload 2"
   ]
  },
  {
   "cell_type": "code",
   "execution_count": 3,
   "id": "9a411379-d439-4ca1-a526-3c2ea2fdc53a",
   "metadata": {},
   "outputs": [],
   "source": [
    "from math import isnan\n",
    "from pathlib import Path\n",
    "import re\n",
    "import pandas as pd\n",
    "import nltk\n",
    "\n",
    "import sys\n",
    "sys.path.append('..')\n",
    "from src.table import Table, Key\n",
    "from src.data.loader import ExcelLoader\n",
    "from src.code.wals import language_to_wals_code\n",
    "import src.util as util"
   ]
  },
  {
   "cell_type": "code",
   "execution_count": 4,
   "id": "7ddb8082-715c-40d6-8248-9515d3de0ad8",
   "metadata": {},
   "outputs": [],
   "source": [
    "multilingual = Path('../dataset/aligned_verses_spreadsheets/')\n",
    "greek = Path('../dataset/Ancient_Greek')\n",
    "excelloader = ExcelLoader(multilingual, greek)\n",
    "table = Table(excelloader, language_to_wals_code)\n",
    "table.build()"
   ]
  },
  {
   "cell_type": "code",
   "execution_count": 5,
   "id": "243d12b5-dbe7-48d5-8360-009067e82a40",
   "metadata": {},
   "outputs": [
    {
     "name": "stdout",
     "output_type": "stream",
     "text": [
      "deleting titles from non greek\n",
      "incrementing greek verses\n",
      "ensuring versicles are strings\n",
      "removing spaces from start and end\n",
      "ensuring versicles end with punctuation\n",
      "removing versicle number in non greek\n",
      "fixing versicle order\n"
     ]
    }
   ],
   "source": [
    "table = util.apply_fixes(table)"
   ]
  },
  {
   "cell_type": "code",
   "execution_count": 6,
   "id": "1197a2f1-e851-4ffb-985d-2afb452c2ab8",
   "metadata": {},
   "outputs": [
    {
     "name": "stdout",
     "output_type": "stream",
     "text": [
      "0 Key(book='REV', chap='REV.12', lang='ANCIENT_GREEK', vers=1)\n",
      "1 Key(book='2CO', chap='2CO.7', lang='ANCIENT_GREEK', vers=1)\n",
      "2 Key(book='REV', chap='REV.19', lang='ANCIENT_GREEK', vers=1)\n",
      "3 Key(book='MRK', chap='MRK.11', lang='ANCIENT_GREEK', vers=1)\n",
      "4 Key(book='ROM', chap='ROM.3', lang='ANCIENT_GREEK', vers=1)\n",
      "5 Key(book='MAT', chap='MAT.19', lang='ANCIENT_GREEK', vers=1)\n",
      "6 Key(book='ACT', chap='ACT.4', lang='ANCIENT_GREEK', vers=1)\n"
     ]
    }
   ],
   "source": [
    "for i, (k, v) in enumerate(table.iterfix()):\n",
    "    print(i, k)\n",
    "    if i > 5: break"
   ]
  },
  {
   "cell_type": "code",
   "execution_count": 7,
   "id": "83dacb37-fff3-4b07-ba69-1deca8a8b082",
   "metadata": {},
   "outputs": [],
   "source": [
    "import pandas as pd"
   ]
  },
  {
   "cell_type": "code",
   "execution_count": 14,
   "id": "0c76372f-d735-4a01-b409-d3d682b9ffb6",
   "metadata": {},
   "outputs": [],
   "source": [
    "def table_to_df(table):\n",
    "    cols = dict(book=[], chapter=[], language=[], language_wals_code=[], versicle_number=[], text=[])\n",
    "    for k, v in table.iterfix():\n",
    "        cols['book'].append(k.book)\n",
    "        cols['chapter'].append(int(k.chap[k.chap.find('.')+1:]))\n",
    "        cols['language'].append(k.lang)\n",
    "        cols['language_wals_code'].append(language_to_wals_code[k.lang])\n",
    "        cols['versicle_number'].append(k.vers)\n",
    "        cols['text'].append(v)\n",
    "    return pd.DataFrame(data=cols)"
   ]
  },
  {
   "cell_type": "code",
   "execution_count": 15,
   "id": "f9306da3-37a4-42b3-915e-1a4b4a03f1ba",
   "metadata": {},
   "outputs": [],
   "source": [
    "df = table_to_df(table)"
   ]
  },
  {
   "cell_type": "code",
   "execution_count": 20,
   "id": "b49b7718-e557-4de1-88f5-211cb17bfee2",
   "metadata": {},
   "outputs": [],
   "source": [
    "df.to_csv('bibles.csv')"
   ]
  },
  {
   "cell_type": "code",
   "execution_count": 21,
   "id": "ac29bb63-1dec-4fab-9a81-1e1a6f7b6464",
   "metadata": {},
   "outputs": [
    {
     "data": {
      "text/html": [
       "<div>\n",
       "<style scoped>\n",
       "    .dataframe tbody tr th:only-of-type {\n",
       "        vertical-align: middle;\n",
       "    }\n",
       "\n",
       "    .dataframe tbody tr th {\n",
       "        vertical-align: top;\n",
       "    }\n",
       "\n",
       "    .dataframe thead th {\n",
       "        text-align: right;\n",
       "    }\n",
       "</style>\n",
       "<table border=\"1\" class=\"dataframe\">\n",
       "  <thead>\n",
       "    <tr style=\"text-align: right;\">\n",
       "      <th></th>\n",
       "      <th>book</th>\n",
       "      <th>chapter</th>\n",
       "      <th>language</th>\n",
       "      <th>language_wals_code</th>\n",
       "      <th>versicle_number</th>\n",
       "      <th>text</th>\n",
       "    </tr>\n",
       "  </thead>\n",
       "  <tbody>\n",
       "    <tr>\n",
       "      <th>0</th>\n",
       "      <td>REV</td>\n",
       "      <td>12</td>\n",
       "      <td>ANCIENT_GREEK</td>\n",
       "      <td>[grc]</td>\n",
       "      <td>1</td>\n",
       "      <td>Καὶ σημεῖον μέγα ὤφθη ἐν τῷ οὐρανῷ, γυνὴ περιβ...</td>\n",
       "    </tr>\n",
       "    <tr>\n",
       "      <th>1</th>\n",
       "      <td>2CO</td>\n",
       "      <td>7</td>\n",
       "      <td>ANCIENT_GREEK</td>\n",
       "      <td>[grc]</td>\n",
       "      <td>1</td>\n",
       "      <td>ταύτας οὖν ἔχοντες τὰς ἐπαγγελίας, ἀγαπητοί, κ...</td>\n",
       "    </tr>\n",
       "    <tr>\n",
       "      <th>2</th>\n",
       "      <td>REV</td>\n",
       "      <td>19</td>\n",
       "      <td>ANCIENT_GREEK</td>\n",
       "      <td>[grc]</td>\n",
       "      <td>1</td>\n",
       "      <td>Μετὰ ταῦτα ἤκουσα ὡς φωνὴν μεγάλην ὄχλου πολλο...</td>\n",
       "    </tr>\n",
       "    <tr>\n",
       "      <th>3</th>\n",
       "      <td>MRK</td>\n",
       "      <td>11</td>\n",
       "      <td>ANCIENT_GREEK</td>\n",
       "      <td>[grc]</td>\n",
       "      <td>1</td>\n",
       "      <td>Καὶ ὅτε ἐγγίζουσιν εἰς Ἱεροσόλυμα εἰς Βηθφαγὴ ...</td>\n",
       "    </tr>\n",
       "    <tr>\n",
       "      <th>4</th>\n",
       "      <td>ROM</td>\n",
       "      <td>3</td>\n",
       "      <td>ANCIENT_GREEK</td>\n",
       "      <td>[grc]</td>\n",
       "      <td>1</td>\n",
       "      <td>Τί οὖν τὸ περισσὸν τοῦ Ἰουδαίου, ἢ τίς ἡ ὠφέλε...</td>\n",
       "    </tr>\n",
       "    <tr>\n",
       "      <th>...</th>\n",
       "      <td>...</td>\n",
       "      <td>...</td>\n",
       "      <td>...</td>\n",
       "      <td>...</td>\n",
       "      <td>...</td>\n",
       "      <td>...</td>\n",
       "    </tr>\n",
       "    <tr>\n",
       "      <th>435982</th>\n",
       "      <td>3JN</td>\n",
       "      <td>1</td>\n",
       "      <td>YANOMAMI</td>\n",
       "      <td>[guu]</td>\n",
       "      <td>13</td>\n",
       "      <td>Cafä nija ya tä a̦ wäyäbä ya tä a̦ bluca ma ta...</td>\n",
       "    </tr>\n",
       "    <tr>\n",
       "      <th>435983</th>\n",
       "      <td>3JN</td>\n",
       "      <td>1</td>\n",
       "      <td>YANOMAMI</td>\n",
       "      <td>[guu]</td>\n",
       "      <td>14</td>\n",
       "      <td>Bäfäcö dablayou fa jaödaonö, dodijidawä bäfäcö...</td>\n",
       "    </tr>\n",
       "    <tr>\n",
       "      <th>435984</th>\n",
       "      <td>3JN</td>\n",
       "      <td>1</td>\n",
       "      <td>YANOMAMI</td>\n",
       "      <td>[guu]</td>\n",
       "      <td>15</td>\n",
       "      <td>Bei. Yai Bada tänö showadi wa bayeliblabä. Wa ...</td>\n",
       "    </tr>\n",
       "    <tr>\n",
       "      <th>435985</th>\n",
       "      <td>MAT</td>\n",
       "      <td>21</td>\n",
       "      <td>GERMANY</td>\n",
       "      <td>ger</td>\n",
       "      <td>44</td>\n",
       "      <td>Und als die Hohenpriester und die Pharisäer se...</td>\n",
       "    </tr>\n",
       "    <tr>\n",
       "      <th>435986</th>\n",
       "      <td>REV</td>\n",
       "      <td>12</td>\n",
       "      <td>GERMANY</td>\n",
       "      <td>ger</td>\n",
       "      <td>18</td>\n",
       "      <td>Und ich stellte mich auf den Sand des Meeres.</td>\n",
       "    </tr>\n",
       "  </tbody>\n",
       "</table>\n",
       "<p>435987 rows × 6 columns</p>\n",
       "</div>"
      ],
      "text/plain": [
       "       book  chapter       language language_wals_code  versicle_number  \\\n",
       "0       REV       12  ANCIENT_GREEK              [grc]                1   \n",
       "1       2CO        7  ANCIENT_GREEK              [grc]                1   \n",
       "2       REV       19  ANCIENT_GREEK              [grc]                1   \n",
       "3       MRK       11  ANCIENT_GREEK              [grc]                1   \n",
       "4       ROM        3  ANCIENT_GREEK              [grc]                1   \n",
       "...     ...      ...            ...                ...              ...   \n",
       "435982  3JN        1       YANOMAMI              [guu]               13   \n",
       "435983  3JN        1       YANOMAMI              [guu]               14   \n",
       "435984  3JN        1       YANOMAMI              [guu]               15   \n",
       "435985  MAT       21        GERMANY                ger               44   \n",
       "435986  REV       12        GERMANY                ger               18   \n",
       "\n",
       "                                                     text  \n",
       "0       Καὶ σημεῖον μέγα ὤφθη ἐν τῷ οὐρανῷ, γυνὴ περιβ...  \n",
       "1       ταύτας οὖν ἔχοντες τὰς ἐπαγγελίας, ἀγαπητοί, κ...  \n",
       "2       Μετὰ ταῦτα ἤκουσα ὡς φωνὴν μεγάλην ὄχλου πολλο...  \n",
       "3       Καὶ ὅτε ἐγγίζουσιν εἰς Ἱεροσόλυμα εἰς Βηθφαγὴ ...  \n",
       "4       Τί οὖν τὸ περισσὸν τοῦ Ἰουδαίου, ἢ τίς ἡ ὠφέλε...  \n",
       "...                                                   ...  \n",
       "435982  Cafä nija ya tä a̦ wäyäbä ya tä a̦ bluca ma ta...  \n",
       "435983  Bäfäcö dablayou fa jaödaonö, dodijidawä bäfäcö...  \n",
       "435984  Bei. Yai Bada tänö showadi wa bayeliblabä. Wa ...  \n",
       "435985  Und als die Hohenpriester und die Pharisäer se...  \n",
       "435986     Und ich stellte mich auf den Sand des Meeres.   \n",
       "\n",
       "[435987 rows x 6 columns]"
      ]
     },
     "execution_count": 21,
     "metadata": {},
     "output_type": "execute_result"
    }
   ],
   "source": [
    "df"
   ]
  }
 ],
 "metadata": {
  "kernelspec": {
   "display_name": "Python 3 (ipykernel)",
   "language": "python",
   "name": "python3"
  },
  "language_info": {
   "codemirror_mode": {
    "name": "ipython",
    "version": 3
   },
   "file_extension": ".py",
   "mimetype": "text/x-python",
   "name": "python",
   "nbconvert_exporter": "python",
   "pygments_lexer": "ipython3",
   "version": "3.11.8"
  }
 },
 "nbformat": 4,
 "nbformat_minor": 5
}
