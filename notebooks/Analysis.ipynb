{
 "cells": [
  {
   "cell_type": "code",
   "execution_count": null,
   "id": "2c49fa7b-f19f-4e6e-820d-3b17cb8d17a9",
   "metadata": {},
   "outputs": [],
   "source": [
    "from pathlib import Path\n",
    "\n",
    "import pandas as pd\n",
    "import nltk\n",
    "\n",
    "import sys\n",
    "sys.path.append('..')\n",
    "from src.table import Table, Key\n",
    "from src.data.loader import ExcelLoader\n",
    "from src.code.wals import language_to_wals_code"
   ]
  },
  {
   "cell_type": "markdown",
   "id": "4cc21ef1-67d2-4a4b-89ea-59a622dc7da7",
   "metadata": {
    "tags": []
   },
   "source": [
    "# Building table data structure"
   ]
  },
  {
   "cell_type": "markdown",
   "id": "1174d1f6-ae42-4b56-9e07-82bb572f1f8f",
   "metadata": {
    "tags": []
   },
   "source": [
    "## Dataset path"
   ]
  },
  {
   "cell_type": "code",
   "execution_count": null,
   "id": "8c6e984a-fafc-4d7a-be9c-9352c5cb3e46",
   "metadata": {},
   "outputs": [],
   "source": [
    "multilingual = Path('../data/aligned_verses_spreadsheets/')\n",
    "greek = Path('../data/Greek')"
   ]
  },
  {
   "cell_type": "markdown",
   "id": "5e8f4e58-fa8a-4c5d-a37c-7f69c6f540d1",
   "metadata": {},
   "source": [
    "### ExcelLoader"
   ]
  },
  {
   "cell_type": "code",
   "execution_count": null,
   "id": "72266103-9603-4ed5-84f2-0a21b0c1333b",
   "metadata": {},
   "outputs": [],
   "source": [
    "excelloader = ExcelLoader(multilingual, greek)"
   ]
  },
  {
   "cell_type": "markdown",
   "id": "73d8f6f5-ef12-41dd-bb0d-7a31f590bf6a",
   "metadata": {},
   "source": [
    "## Table"
   ]
  },
  {
   "cell_type": "code",
   "execution_count": null,
   "id": "480e9b83-fbbb-4134-b818-7f0fbd3e0109",
   "metadata": {},
   "outputs": [],
   "source": [
    "table = Table(excelloader, language_to_wals_code)"
   ]
  },
  {
   "cell_type": "code",
   "execution_count": null,
   "id": "aea73cd3-751a-4cae-80b3-26c03a17ee75",
   "metadata": {},
   "outputs": [],
   "source": [
    "for k in table(lang=['GREEK'], chap='LUK.19'):\n",
    "    print(k)\n",
    "    break"
   ]
  },
  {
   "cell_type": "code",
   "execution_count": null,
   "id": "69280cf6-e2ab-4327-a423-c24e5ae02ff2",
   "metadata": {},
   "outputs": [],
   "source": [
    "len(table._data)"
   ]
  },
  {
   "cell_type": "markdown",
   "id": "74c1ef06-8b16-4178-9178-113f75c36214",
   "metadata": {
    "tags": []
   },
   "source": [
    "# Queries"
   ]
  },
  {
   "cell_type": "code",
   "execution_count": null,
   "id": "3741ac37-0a4d-4d2d-a100-4ac008ae5d05",
   "metadata": {},
   "outputs": [],
   "source": [
    "for p in iter_fixed(data, book='MRK', chap='MRK.1', lang='ENGLISH', vers=0):\n",
    "    print(p)"
   ]
  },
  {
   "cell_type": "markdown",
   "id": "9f93820f-f751-4be8-aa65-2e62140f7239",
   "metadata": {},
   "source": [
    "### Language chapters"
   ]
  },
  {
   "cell_type": "code",
   "execution_count": null,
   "id": "d3352868-bc84-4ccf-b28c-ad079709d2ea",
   "metadata": {},
   "outputs": [],
   "source": [
    "def language_chapters(data):\n",
    "    lang_ch = defaultdict(list)\n",
    "    for e, v in iter_fixed(data):\n",
    "        lang_ch[e.lang].append((e.chap, e.vers))\n",
    "    return lang_ch"
   ]
  },
  {
   "cell_type": "code",
   "execution_count": null,
   "id": "cc30c2c7-a18a-43b9-b68a-03c035011747",
   "metadata": {},
   "outputs": [],
   "source": [
    "%%timeit\n",
    "lc = language_chapters(data)"
   ]
  },
  {
   "cell_type": "code",
   "execution_count": null,
   "id": "de12b8fc-da1a-40a5-b62e-ce14e5f68f8f",
   "metadata": {},
   "outputs": [],
   "source": [
    "print(len(lc['GERMANY'])) # Germany is complete"
   ]
  },
  {
   "cell_type": "code",
   "execution_count": null,
   "id": "0878d786-c19d-4fce-a35e-74e30ae17fe1",
   "metadata": {},
   "outputs": [],
   "source": [
    "set(lc['GERMANY']) - set(lc['ENGLISH'])"
   ]
  },
  {
   "cell_type": "code",
   "execution_count": null,
   "id": "20d29a19-6067-47c0-a67e-8d8bfb277356",
   "metadata": {},
   "outputs": [],
   "source": [
    "set(lc['GERMANY']) - set(lc['ENGLISH'])"
   ]
  },
  {
   "cell_type": "code",
   "execution_count": null,
   "id": "7bee3e07-82e8-4554-b087-daa07007c6cf",
   "metadata": {},
   "outputs": [],
   "source": [
    "len(books)"
   ]
  },
  {
   "cell_type": "code",
   "execution_count": null,
   "id": "ade84b00-ef38-4ca3-9519-4840f775987a",
   "metadata": {},
   "outputs": [],
   "source": [
    "len(chaps)"
   ]
  },
  {
   "cell_type": "code",
   "execution_count": null,
   "id": "eb841cd8-7aeb-4766-b63b-134b23813a86",
   "metadata": {},
   "outputs": [],
   "source": [
    "8217 - 260\n"
   ]
  },
  {
   "cell_type": "code",
   "execution_count": null,
   "id": "fbf715d0-b340-4de1-8c80-257d33feecfe",
   "metadata": {},
   "outputs": [],
   "source": [
    "[ f for f, s in iter_fixed(data, book='MRK', lang='GERMANY', chap='MRK.16')]"
   ]
  },
  {
   "cell_type": "code",
   "execution_count": null,
   "id": "8ad36004-3815-4877-b2e0-2c6a56722260",
   "metadata": {},
   "outputs": [],
   "source": [
    "#del lc['GUARANI']\n",
    "#del lc['CANELA']\n",
    "del[o[0]]"
   ]
  },
  {
   "cell_type": "code",
   "execution_count": null,
   "id": "14c9ef19-b167-44c6-acdc-b45716c04ffb",
   "metadata": {},
   "outputs": [],
   "source": [
    "s = set(lc['GERMANY'])\n",
    "for l, v in lc.items():\n",
    "    v = set(v)\n",
    "    s = s & v\n",
    "    if not s or not v:\n",
    "        print(l)\n",
    "    "
   ]
  },
  {
   "cell_type": "code",
   "execution_count": null,
   "id": "efef3001-f12a-4405-90ff-d44932ddb10f",
   "metadata": {},
   "outputs": [],
   "source": [
    "len(s) / len(lc['GERMANY'])"
   ]
  },
  {
   "cell_type": "code",
   "execution_count": null,
   "id": "fa71eb6b-4cd2-48d8-bbdc-4f42bc0726e5",
   "metadata": {},
   "outputs": [],
   "source": [
    "o = sorted([ l for l in lc.keys()], key=lambda x: len(lc[x]))"
   ]
  },
  {
   "cell_type": "code",
   "execution_count": null,
   "id": "c1ccdf2e-98d6-4634-8805-3a7ae682acb8",
   "metadata": {},
   "outputs": [],
   "source": [
    "o[0]"
   ]
  },
  {
   "cell_type": "code",
   "execution_count": null,
   "id": "6c7b9532-04ff-4ea9-aac1-54bf9fead58a",
   "metadata": {},
   "outputs": [],
   "source": [
    "del lc[o[0]]"
   ]
  },
  {
   "cell_type": "code",
   "execution_count": null,
   "id": "ed9625b7-c50f-42cf-8171-981184502900",
   "metadata": {},
   "outputs": [],
   "source": [
    "from math import isnan\n",
    "for e, v in iter_fixed(data, lang=o[0]):\n",
    "    if e.vers == 0 and not(isnan(v)):\n",
    "        print(e, v)"
   ]
  },
  {
   "cell_type": "code",
   "execution_count": null,
   "id": "748b5eb3-7c75-49e4-943d-2c606d1081b6",
   "metadata": {},
   "outputs": [],
   "source": [
    "r = set()\n",
    "for l in o:\n",
    "    r.add(l)\n",
    "    s = set(lc['GERMANY'])\n",
    "    for l1, v in lc.items():\n",
    "        if l1 in r: continue \n",
    "        v = set(v)\n",
    "        s = s & v\n",
    "    print(len(r), len(lc.keys()) - len(r), len(s), len(s)/len(lc['GERMANY']))"
   ]
  },
  {
   "cell_type": "code",
   "execution_count": null,
   "id": "3389d0b2-e742-46ed-a5a9-517b75f8b68e",
   "metadata": {},
   "outputs": [],
   "source": [
    "len(o[31:])"
   ]
  }
 ],
 "metadata": {
  "kernelspec": {
   "display_name": "Python 3 (ipykernel)",
   "language": "python",
   "name": "python3"
  },
  "language_info": {
   "codemirror_mode": {
    "name": "ipython",
    "version": 3
   },
   "file_extension": ".py",
   "mimetype": "text/x-python",
   "name": "python",
   "nbconvert_exporter": "python",
   "pygments_lexer": "ipython3",
   "version": "3.10.11"
  }
 },
 "nbformat": 4,
 "nbformat_minor": 5
}
