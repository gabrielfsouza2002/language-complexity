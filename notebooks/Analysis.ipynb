{
 "cells": [
  {
   "cell_type": "code",
   "execution_count": 1,
   "id": "2c49fa7b-f19f-4e6e-820d-3b17cb8d17a9",
   "metadata": {},
   "outputs": [],
   "source": [
    "from pathlib import Path\n",
    "\n",
    "import pandas as pd\n",
    "import nltk"
   ]
  },
  {
   "cell_type": "code",
   "execution_count": 2,
   "id": "bbcb6666-703c-4867-acdc-8d22c8b3afab",
   "metadata": {},
   "outputs": [],
   "source": [
    "wals_lang_codes = {\n",
    "    'APALAÍ': 'apl',\n",
    "    'APINAYÉ': 'api',\n",
    "    'APURINÃ': 'apu',\n",
    "    'ASHENINKA': 'cax', # Peru\n",
    "    'BAKAIRI': 'bki',\n",
    "    'BORÔRO': 'brr', \n",
    "    'CANELA': 'cnl',\n",
    "    'CULINA': 'cul',\n",
    "    'DESANO': 'des',\n",
    "    'ENGLISH': 'eng', \n",
    "    'FRENCH': 'fre',\n",
    "    'GERMANY': 'ger',\n",
    "    'GUAJAJARA': 'gjj',\n",
    "    'GUARANI_EASTERN_BOLIVIAN': 'crg', # Chiriguano\n",
    "    'GUARANI_MBYA': '[gun]', # Missing\n",
    "    'GUARANI_PARAGUAY': 'gua', # Guaraní\n",
    "    'GUARANI_WESTERN_BOLIVIAN': '[gnw]', # Missing\n",
    "    'HIXKARYÁNA': 'hix',\n",
    "    'JAMAMADI': 'jmm',\n",
    "#    'JARAWARA': 'jar', # identifier made up \n",
    "    'KAAPOR': 'urk',\n",
    "    'KADIWÉU': 'kdw',\n",
    "    'KAIGANG': 'kng',\n",
    "    'KAIWÁ': 'kaw',\n",
    "    'KARAJÁ': 'jva',\n",
    "    'KASHINAWA': 'csh',\n",
    "    'KAYABÍ': 'kyz',\n",
    "    'KAYAPÓ': 'kyp',\n",
    "    'KUBEO': 'cub',\n",
    "    'MACUSHI': 'mac',\n",
    "#    'MACHINÉRI': ,\n",
    "    'MAKUNA': 'mcn',\n",
    "    'MATSÉS': 'myr',\n",
    "    'MAXAKALI': 'max',\n",
    "    'MUNDURUKÚ': 'muu',\n",
    "    'NADEB': 'nad',\n",
    "    'NAMBIKUÁRA': 'nmb',\n",
    "    'NHEENGATU': '[yrl]',\n",
    "    'PALIKÚR': 'plk',\n",
    "    'PARECÍS': 'pex',\n",
    "    'PAUMARÍ': 'pau',\n",
    "    'PIRATAPÚYA': 'prt',\n",
    "    'PORTUGUESE': 'por',\n",
    "    'RIKBAKTSA': 'rik',\n",
    "    'SANUMÁ': 'snm',\n",
    "    'SATERÉ-MAWÉ': '[mav]',\n",
    "    'SIRIANO': 'sri',\n",
    "    'SPANISH': 'spa',\n",
    "    'TENHARIM': '[pah]',\n",
    "    'TERÊNA': 'trn',\n",
    "    'TICUNA': 'tic',\n",
    "    'TUCANO': 'tuc',\n",
    "    'TUYÚCA': 'tuy', \n",
    "    'WANANA': 'gno',\n",
    "    #'WAIÃPY': ,\n",
    "    'WAPISHANA': 'wps',\n",
    "    'XAVANTE': 'xav',\n",
    "    'YAMINÁWA': 'yam',\n",
    "    'YANOMAMI': '[guu]'\n",
    "    \n",
    "}"
   ]
  },
  {
   "cell_type": "code",
   "execution_count": 3,
   "id": "684f81d8-ea27-446c-acdd-2fb1df28dd9f",
   "metadata": {},
   "outputs": [],
   "source": [
    "p = Path('../data/aligned_verses_spreadsheets/')"
   ]
  },
  {
   "cell_type": "code",
   "execution_count": 4,
   "id": "a2f59c5a-751d-46b2-b84a-b85690b06a64",
   "metadata": {},
   "outputs": [],
   "source": [
    "booksp = [ e for e in p.iterdir() if e.is_file ]\n",
    "books = [e.name.replace('.xlsx', '') for e in booksp]"
   ]
  },
  {
   "cell_type": "code",
   "execution_count": 5,
   "id": "64f169de-781b-42c8-9d8e-03b6cd096e34",
   "metadata": {},
   "outputs": [],
   "source": [
    "chapters = [ pd.read_excel(e, None) for e in booksp]"
   ]
  },
  {
   "cell_type": "code",
   "execution_count": 6,
   "id": "7d77a6a4-9a8c-468b-9d3c-5411147445f8",
   "metadata": {},
   "outputs": [],
   "source": [
    "book2chapters = { b : c for b, c in zip(books, chapters) }\n",
    "b2c = { b : list(c.keys()) for b, c in book2chapters.items() }"
   ]
  },
  {
   "cell_type": "code",
   "execution_count": 7,
   "id": "4cf683ab-149b-4a65-babd-cad6c7f50684",
   "metadata": {},
   "outputs": [],
   "source": [
    "chapter2book = { c : b for b, c2v in book2chapters.items() for c in c2v.keys() }"
   ]
  },
  {
   "cell_type": "code",
   "execution_count": 8,
   "id": "e84e7d76-4732-4f94-b88b-f75702ee8e55",
   "metadata": {},
   "outputs": [],
   "source": [
    "languages = { c : v for b, chs in book2chapters.items() for c, v in chs.items()}\n",
    "chapter2languages = { c : v.to_dict() for c, v in languages.items() }"
   ]
  },
  {
   "cell_type": "code",
   "execution_count": 9,
   "id": "83a821fe-8614-4ee9-88d5-d3142c1ca487",
   "metadata": {},
   "outputs": [],
   "source": [
    "langs = list(languages['MRK.1'].columns)\n",
    "\n",
    "chaps = [c for b in books for c in b2c[b]]\n",
    "verss = list(range(0, 98))"
   ]
  },
  {
   "cell_type": "code",
   "execution_count": 16,
   "id": "cfab2a70-06cf-4127-a06e-e3607d86e7a7",
   "metadata": {},
   "outputs": [],
   "source": [
    "from typing import NamedTuple\n",
    "from collections import defaultdict\n",
    "\n",
    "class Entry(NamedTuple):\n",
    "    book: str\n",
    "    chap: str\n",
    "    lang: str\n",
    "    vers: int\n",
    "\n",
    "# Dicionario data[(book, chap, lang, nvers)] -> versiculo_texto\n",
    "data = defaultdict(str)\n",
    "for b in books:\n",
    "    for c in book2chapters[b]:\n",
    "        for l, vs in chapter2languages[c].items():\n",
    "            for i, val in vs.items():\n",
    "                key = Entry(b, c, l, i)\n",
    "                if val != ' ':\n",
    "                    data[key] = val"
   ]
  },
  {
   "cell_type": "code",
   "execution_count": 11,
   "id": "ef723d6f-d1d5-4560-a79e-991aeaacdd49",
   "metadata": {},
   "outputs": [
    {
     "data": {
      "text/plain": [
       "472409"
      ]
     },
     "execution_count": 11,
     "metadata": {},
     "output_type": "execute_result"
    }
   ],
   "source": [
    "len(data)"
   ]
  },
  {
   "cell_type": "code",
   "execution_count": 12,
   "id": "f33918a9-42b1-4146-b7f9-7a611db16aaa",
   "metadata": {},
   "outputs": [],
   "source": [
    "from itertools import product"
   ]
  },
  {
   "cell_type": "code",
   "execution_count": 22,
   "id": "397907fc-3f3f-481b-875a-5a1a1249fae7",
   "metadata": {},
   "outputs": [
    {
     "name": "stdout",
     "output_type": "stream",
     "text": [
      "(1,)\n",
      "(2,)\n",
      "(3,)\n"
     ]
    }
   ],
   "source": [
    "for t in product(*[[1, 2, 3]]):\n",
    "    print(t)"
   ]
  },
  {
   "cell_type": "code",
   "execution_count": 23,
   "id": "174c723c-5f5e-4baf-bc94-09d500351344",
   "metadata": {},
   "outputs": [
    {
     "data": {
      "text/plain": [
       "{'book', 'chap', 'lang', 'vers'}"
      ]
     },
     "execution_count": 23,
     "metadata": {},
     "output_type": "execute_result"
    }
   ],
   "source": [
    "set(['book', 'chap', 'lang', 'vers'])"
   ]
  },
  {
   "cell_type": "code",
   "execution_count": 19,
   "id": "dd3c7c09-75af-4ad5-bef5-04542f4d3c9d",
   "metadata": {},
   "outputs": [],
   "source": [
    "def get_verses(data, book, chapter, language): \n",
    "    for i in verss:\n",
    "        r =  data[(book, chapter, language, i)]\n",
    "        if r:\n",
    "            yield i, r\n",
    "    "
   ]
  },
  {
   "cell_type": "code",
   "execution_count": 32,
   "id": "eefb215f-0297-461a-92ee-e6fc525d4bdf",
   "metadata": {},
   "outputs": [],
   "source": [
    "def iter_fixed(data, **kwargs):\n",
    "    \n",
    "    args = set(['book', 'chap', 'lang', 'vers']) # Take from data\n",
    "    \n",
    "    default = dict(book=books, chap=chaps, lang=langs,vers=verss) # Take from data\n",
    "    \n",
    "    fix = kwargs.keys()\n",
    "    var = args - fix\n",
    "    \n",
    "    for p in product(*[default[i] for i in var]):\n",
    "        d = kwargs\n",
    "        for v, t in zip(var, p):\n",
    "            d[v] = t\n",
    "        key = Entry(**d)\n",
    "        val = data[key]\n",
    "        if val:\n",
    "            yield key, val"
   ]
  },
  {
   "cell_type": "code",
   "execution_count": null,
   "id": "411f1e56-e636-4eb2-bf17-9e3c5e9b484e",
   "metadata": {},
   "outputs": [],
   "source": [
    "for e in iter_fixed(data, lang='ENGLISH'):\n",
    "    print(e)"
   ]
  },
  {
   "cell_type": "code",
   "execution_count": 23,
   "id": "22443a00-1fa4-4208-ad0e-d136d76dc9de",
   "metadata": {},
   "outputs": [
    {
     "data": {
      "text/plain": [
       "(45,\n",
       " '45. But as the man went out he began to announce it publicly and spread the story widely, so that Jesus was no longer able to enter any town openly but stayed outside in remote places. Still they kept coming to him from everywhere.')"
      ]
     },
     "execution_count": 23,
     "metadata": {},
     "output_type": "execute_result"
    }
   ],
   "source": [
    "max(get_verses(data, 'MRK', 'MRK.1', 'ENGLISH'))"
   ]
  },
  {
   "cell_type": "code",
   "execution_count": 34,
   "id": "f712f232-e8b3-4e54-8438-76b206ae64b8",
   "metadata": {},
   "outputs": [
    {
     "data": {
      "text/plain": [
       "(Entry(book='MRK', chap='MRK.1', lang='ENGLISH', vers=45),\n",
       " '45. But as the man went out he began to announce it publicly and spread the story widely, so that Jesus was no longer able to enter any town openly but stayed outside in remote places. Still they kept coming to him from everywhere.')"
      ]
     },
     "execution_count": 34,
     "metadata": {},
     "output_type": "execute_result"
    }
   ],
   "source": [
    "max(iter_fixed(data, book='MRK', chap='MRK.1', lang='ENGLISH'))"
   ]
  },
  {
   "cell_type": "code",
   "execution_count": 26,
   "id": "e095f15c-5c00-4649-8351-9942b0d4a344",
   "metadata": {},
   "outputs": [
    {
     "data": {
      "text/plain": [
       "[45,\n",
       " 28,\n",
       " 35,\n",
       " 41,\n",
       " 43,\n",
       " 56,\n",
       " 37,\n",
       " 38,\n",
       " 50,\n",
       " 52,\n",
       " 33,\n",
       " 44,\n",
       " 37,\n",
       " 72,\n",
       " 47,\n",
       " 20,\n",
       " 27,\n",
       " 26,\n",
       " 18,\n",
       " 17,\n",
       " 20,\n",
       " 51,\n",
       " 25,\n",
       " 36,\n",
       " 54,\n",
       " 47,\n",
       " 71,\n",
       " 53,\n",
       " 59,\n",
       " 41,\n",
       " 42,\n",
       " 57,\n",
       " 50,\n",
       " 38,\n",
       " 31,\n",
       " 27,\n",
       " 33,\n",
       " 26,\n",
       " 40,\n",
       " 42,\n",
       " 31,\n",
       " 25,\n",
       " 21,\n",
       " 22,\n",
       " 18,\n",
       " 25,\n",
       " 12,\n",
       " 17,\n",
       " 18,\n",
       " 18,\n",
       " 26,\n",
       " 17,\n",
       " 22,\n",
       " 13,\n",
       " 31,\n",
       " 16,\n",
       " 23,\n",
       " 21,\n",
       " 13,\n",
       " 20,\n",
       " 40,\n",
       " 13,\n",
       " 27,\n",
       " 33,\n",
       " 34,\n",
       " 31,\n",
       " 13,\n",
       " 40,\n",
       " 58,\n",
       " 24,\n",
       " 29,\n",
       " 23,\n",
       " 25,\n",
       " 18,\n",
       " 30,\n",
       " 30,\n",
       " 21,\n",
       " 23,\n",
       " 25,\n",
       " 23,\n",
       " 17,\n",
       " 25,\n",
       " 48,\n",
       " 34,\n",
       " 29,\n",
       " 34,\n",
       " 38,\n",
       " 42,\n",
       " 30,\n",
       " 50,\n",
       " 58,\n",
       " 36,\n",
       " 39,\n",
       " 28,\n",
       " 27,\n",
       " 35,\n",
       " 30,\n",
       " 34,\n",
       " 46,\n",
       " 46,\n",
       " 39,\n",
       " 51,\n",
       " 46,\n",
       " 75,\n",
       " 66,\n",
       " 20,\n",
       " 23,\n",
       " 22,\n",
       " 21,\n",
       " 32,\n",
       " 33,\n",
       " 24,\n",
       " 26,\n",
       " 47,\n",
       " 26,\n",
       " 37,\n",
       " 42,\n",
       " 15,\n",
       " 60,\n",
       " 40,\n",
       " 43,\n",
       " 48,\n",
       " 30,\n",
       " 25,\n",
       " 52,\n",
       " 28,\n",
       " 41,\n",
       " 40,\n",
       " 34,\n",
       " 28,\n",
       " 41,\n",
       " 38,\n",
       " 40,\n",
       " 30,\n",
       " 35,\n",
       " 27,\n",
       " 27,\n",
       " 32,\n",
       " 44,\n",
       " 31,\n",
       " 14,\n",
       " 18,\n",
       " 19,\n",
       " 16,\n",
       " 14,\n",
       " 20,\n",
       " 28,\n",
       " 13,\n",
       " 28,\n",
       " 39,\n",
       " 40,\n",
       " 29,\n",
       " 25,\n",
       " 32,\n",
       " 29,\n",
       " 31,\n",
       " 25,\n",
       " 21,\n",
       " 23,\n",
       " 25,\n",
       " 39,\n",
       " 33,\n",
       " 21,\n",
       " 36,\n",
       " 21,\n",
       " 14,\n",
       " 23,\n",
       " 33,\n",
       " 27,\n",
       " 20,\n",
       " 29,\n",
       " 22,\n",
       " 11,\n",
       " 14,\n",
       " 17,\n",
       " 17,\n",
       " 13,\n",
       " 21,\n",
       " 11,\n",
       " 19,\n",
       " 18,\n",
       " 18,\n",
       " 20,\n",
       " 8,\n",
       " 21,\n",
       " 18,\n",
       " 24,\n",
       " 21,\n",
       " 15,\n",
       " 27,\n",
       " 21,\n",
       " 10,\n",
       " 29,\n",
       " 24,\n",
       " 21,\n",
       " 21,\n",
       " 20,\n",
       " 15,\n",
       " 16,\n",
       " 16,\n",
       " 25,\n",
       " 21,\n",
       " 24,\n",
       " 17,\n",
       " 18,\n",
       " 18,\n",
       " 21,\n",
       " 18,\n",
       " 16,\n",
       " 24,\n",
       " 15,\n",
       " 18,\n",
       " 33,\n",
       " 21,\n",
       " 13,\n",
       " 16,\n",
       " 15,\n",
       " 15,\n",
       " 80,\n",
       " 52,\n",
       " 38,\n",
       " 44,\n",
       " 39,\n",
       " 49,\n",
       " 50,\n",
       " 56,\n",
       " 62,\n",
       " 42,\n",
       " 54,\n",
       " 59,\n",
       " 35,\n",
       " 35,\n",
       " 32,\n",
       " 31,\n",
       " 37,\n",
       " 43,\n",
       " 48,\n",
       " 47,\n",
       " 38,\n",
       " 71,\n",
       " 56,\n",
       " 53,\n",
       " 25,\n",
       " 25,\n",
       " 22,\n",
       " 19,\n",
       " 14,\n",
       " 25,\n",
       " 10,\n",
       " 20,\n",
       " 13,\n",
       " 18,\n",
       " 28,\n",
       " 24,\n",
       " 21,\n",
       " 29,\n",
       " 31,\n",
       " 26,\n",
       " 18,\n",
       " 15]"
      ]
     },
     "execution_count": 26,
     "metadata": {},
     "output_type": "execute_result"
    }
   ],
   "source": [
    "[max(get_verses(data, b, c, 'ENGLISH'))[0] for b in books for c in book2chapters[b]]"
   ]
  }
 ],
 "metadata": {
  "kernelspec": {
   "display_name": "Python 3 (ipykernel)",
   "language": "python",
   "name": "python3"
  },
  "language_info": {
   "codemirror_mode": {
    "name": "ipython",
    "version": 3
   },
   "file_extension": ".py",
   "mimetype": "text/x-python",
   "name": "python",
   "nbconvert_exporter": "python",
   "pygments_lexer": "ipython3",
   "version": "3.10.11"
  }
 },
 "nbformat": 4,
 "nbformat_minor": 5
}
