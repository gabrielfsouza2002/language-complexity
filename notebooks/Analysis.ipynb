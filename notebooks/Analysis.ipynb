{
 "cells": [
  {
   "cell_type": "code",
   "execution_count": 1,
   "id": "2c49fa7b-f19f-4e6e-820d-3b17cb8d17a9",
   "metadata": {},
   "outputs": [],
   "source": [
    "from pathlib import Path\n",
    "\n",
    "import pandas as pd\n",
    "import nltk"
   ]
  },
  {
   "cell_type": "code",
   "execution_count": 2,
   "id": "bbcb6666-703c-4867-acdc-8d22c8b3afab",
   "metadata": {},
   "outputs": [],
   "source": [
    "wals_lang_codes = {\n",
    "    'APALAÍ': 'apl',\n",
    "    'APINAYÉ': 'api',\n",
    "    'APURINÃ': 'apu',\n",
    "    'ASHENINKA': 'cax', # Peru\n",
    "    'BAKAIRI': 'bki',\n",
    "    'BORÔRO': 'brr', \n",
    "    'CANELA': 'cnl',\n",
    "    'CULINA': 'cul',\n",
    "    'DESANO': 'des',\n",
    "    'ENGLISH': 'eng', \n",
    "    'FRENCH': 'fre',\n",
    "    'GERMANY': 'ger',\n",
    "    'GUAJAJARA': 'gjj',\n",
    "    'GUARANI_EASTERN_BOLIVIAN': 'crg', # Chiriguano\n",
    "    'GUARANI_MBYA': '[gun]', # Missing\n",
    "    'GUARANI_PARAGUAY': 'gua', # Guaraní\n",
    "    'GUARANI_WESTERN_BOLIVIAN': '[gnw]', # Missing\n",
    "    'HIXKARYÁNA': 'hix',\n",
    "    'JAMAMADI': 'jmm',\n",
    "#    'JARAWARA': 'jar', # identifier made up \n",
    "    'KAAPOR': 'urk',\n",
    "    'KADIWÉU': 'kdw',\n",
    "    'KAIGANG': 'kng',\n",
    "    'KAIWÁ': 'kaw',\n",
    "    'KARAJÁ': 'jva',\n",
    "    'KASHINAWA': 'csh',\n",
    "    'KAYABÍ': 'kyz',\n",
    "    'KAYAPÓ': 'kyp',\n",
    "    'KUBEO': 'cub',\n",
    "    'MACUSHI': 'mac',\n",
    "#    'MACHINÉRI': ,\n",
    "    'MAKUNA': 'mcn',\n",
    "    'MATSÉS': 'myr',\n",
    "    'MAXAKALI': 'max',\n",
    "    'MUNDURUKÚ': 'muu',\n",
    "    'NADEB': 'nad',\n",
    "    'NAMBIKUÁRA': 'nmb',\n",
    "    'NHEENGATU': '[yrl]',\n",
    "    'PALIKÚR': 'plk',\n",
    "    'PARECÍS': 'pex',\n",
    "    'PAUMARÍ': 'pau',\n",
    "    'PIRATAPÚYA': 'prt',\n",
    "    'PORTUGUESE': 'por',\n",
    "    'RIKBAKTSA': 'rik',\n",
    "    'SANUMÁ': 'snm',\n",
    "    'SATERÉ-MAWÉ': '[mav]',\n",
    "    'SIRIANO': 'sri',\n",
    "    'SPANISH': 'spa',\n",
    "    'TENHARIM': '[pah]',\n",
    "    'TERÊNA': 'trn',\n",
    "    'TICUNA': 'tic',\n",
    "    'TUCANO': 'tuc',\n",
    "    'TUYÚCA': 'tuy', \n",
    "    'WANANA': 'gno',\n",
    "    #'WAIÃPY': ,\n",
    "    'WAPISHANA': 'wps',\n",
    "    'XAVANTE': 'xav',\n",
    "    'YAMINÁWA': 'yam',\n",
    "    'YANOMAMI': '[guu]'\n",
    "    \n",
    "}"
   ]
  },
  {
   "cell_type": "code",
   "execution_count": 3,
   "id": "684f81d8-ea27-446c-acdd-2fb1df28dd9f",
   "metadata": {},
   "outputs": [],
   "source": [
    "p = Path('../data/aligned_verses_spreadsheets/')"
   ]
  },
  {
   "cell_type": "code",
   "execution_count": 4,
   "id": "a2f59c5a-751d-46b2-b84a-b85690b06a64",
   "metadata": {},
   "outputs": [],
   "source": [
    "booksp = [ e for e in p.iterdir() if e.is_file ]\n",
    "books = [e.name.replace('.xlsx', '') for e in booksp]"
   ]
  },
  {
   "cell_type": "code",
   "execution_count": 5,
   "id": "64f169de-781b-42c8-9d8e-03b6cd096e34",
   "metadata": {},
   "outputs": [],
   "source": [
    "chapters = [ pd.read_excel(e, None) for e in booksp]"
   ]
  },
  {
   "cell_type": "code",
   "execution_count": 6,
   "id": "7d77a6a4-9a8c-468b-9d3c-5411147445f8",
   "metadata": {},
   "outputs": [],
   "source": [
    "book2chapters = { b : c for b, c in zip(books, chapters) }\n",
    "b2c = { b : list(c.keys()) for b, c in book2chapters.items() }"
   ]
  },
  {
   "cell_type": "code",
   "execution_count": 7,
   "id": "4cf683ab-149b-4a65-babd-cad6c7f50684",
   "metadata": {},
   "outputs": [],
   "source": [
    "chapter2book = { c : b for b, c2v in book2chapters.items() for c in c2v.keys() }"
   ]
  },
  {
   "cell_type": "code",
   "execution_count": 8,
   "id": "e84e7d76-4732-4f94-b88b-f75702ee8e55",
   "metadata": {},
   "outputs": [],
   "source": [
    "languages = { c : v for b, chs in book2chapters.items() for c, v in chs.items()}\n",
    "chapter2languages = { c : v.to_dict() for c, v in languages.items() }"
   ]
  },
  {
   "cell_type": "code",
   "execution_count": 9,
   "id": "83a821fe-8614-4ee9-88d5-d3142c1ca487",
   "metadata": {},
   "outputs": [],
   "source": [
    "langs = list(languages['MRK.1'].columns)\n",
    "\n",
    "chaps = [c for b in books for c in b2c[b]]\n",
    "verss = list(range(0, 98))"
   ]
  },
  {
   "cell_type": "code",
   "execution_count": 35,
   "id": "cfab2a70-06cf-4127-a06e-e3607d86e7a7",
   "metadata": {},
   "outputs": [],
   "source": [
    "#TODO: Put this in a .py file encapsulated by a class\n",
    "from typing import NamedTuple\n",
    "from collections import defaultdict\n",
    "\n",
    "class Entry(NamedTuple):\n",
    "    book: str\n",
    "    chap: str\n",
    "    lang: str\n",
    "    vers: int\n",
    "\n",
    "# Dicionario data[(book, chap, lang, nvers)] -> versiculo_texto\n",
    "data = defaultdict(str)\n",
    "for b in books:\n",
    "    for c in book2chapters[b]:\n",
    "        for l, vs in chapter2languages[c].items():\n",
    "            for i, val in vs.items():\n",
    "                key = Entry(b, c, l, i)\n",
    "                if val != ' ':\n",
    "                    data[key] = val"
   ]
  },
  {
   "cell_type": "code",
   "execution_count": 11,
   "id": "ef723d6f-d1d5-4560-a79e-991aeaacdd49",
   "metadata": {},
   "outputs": [
    {
     "data": {
      "text/plain": [
       "472409"
      ]
     },
     "execution_count": 11,
     "metadata": {},
     "output_type": "execute_result"
    }
   ],
   "source": [
    "len(data)"
   ]
  },
  {
   "cell_type": "code",
   "execution_count": 12,
   "id": "f33918a9-42b1-4146-b7f9-7a611db16aaa",
   "metadata": {},
   "outputs": [],
   "source": [
    "from itertools import product"
   ]
  },
  {
   "cell_type": "code",
   "execution_count": 22,
   "id": "397907fc-3f3f-481b-875a-5a1a1249fae7",
   "metadata": {},
   "outputs": [
    {
     "name": "stdout",
     "output_type": "stream",
     "text": [
      "(1,)\n",
      "(2,)\n",
      "(3,)\n"
     ]
    }
   ],
   "source": [
    "for t in product(*[[1, 2, 3]]):\n",
    "    print(t)"
   ]
  },
  {
   "cell_type": "code",
   "execution_count": 23,
   "id": "174c723c-5f5e-4baf-bc94-09d500351344",
   "metadata": {},
   "outputs": [
    {
     "data": {
      "text/plain": [
       "{'book', 'chap', 'lang', 'vers'}"
      ]
     },
     "execution_count": 23,
     "metadata": {},
     "output_type": "execute_result"
    }
   ],
   "source": [
    "set(['book', 'chap', 'lang', 'vers'])"
   ]
  },
  {
   "cell_type": "code",
   "execution_count": 19,
   "id": "dd3c7c09-75af-4ad5-bef5-04542f4d3c9d",
   "metadata": {},
   "outputs": [],
   "source": [
    "def get_verses(data, book, chapter, language): \n",
    "    for i in verss:\n",
    "        r =  data[(book, chapter, language, i)]\n",
    "        if r:\n",
    "            yield i, r\n",
    "    "
   ]
  },
  {
   "cell_type": "code",
   "execution_count": 53,
   "id": "eefb215f-0297-461a-92ee-e6fc525d4bdf",
   "metadata": {},
   "outputs": [],
   "source": [
    "def iter_fixed(data, **kwargs):\n",
    "    # TODO: Make it faster by iterating over only the tuples that exist\n",
    "    args = set(['book', 'chap', 'lang', 'vers']) # Take from data\n",
    "    \n",
    "    default = dict(book=books, chap=chaps, lang=langs,vers=verss) # Take from data\n",
    "    \n",
    "    fix = kwargs.keys()\n",
    "    var = args - fix\n",
    "    \n",
    "    for p in product(*[default[i] for i in var]):\n",
    "        d = kwargs\n",
    "        for v, t in zip(var, p):\n",
    "            d[v] = t\n",
    "        key = Entry(**d)\n",
    "        val = data[key]\n",
    "        if val:\n",
    "            yield key, val"
   ]
  },
  {
   "cell_type": "markdown",
   "id": "74c1ef06-8b16-4178-9178-113f75c36214",
   "metadata": {},
   "source": [
    "## Queries"
   ]
  },
  {
   "cell_type": "code",
   "execution_count": 37,
   "id": "3741ac37-0a4d-4d2d-a100-4ac008ae5d05",
   "metadata": {},
   "outputs": [
    {
     "name": "stdout",
     "output_type": "stream",
     "text": [
      "(Entry(book='MRK', chap='MRK.1', lang='ENGLISH', vers=0), 'Mark 1')\n"
     ]
    }
   ],
   "source": [
    "for p in iter_fixed(data, book='MRK', chap='MRK.1', lang='ENGLISH', vers=0):\n",
    "    print(p)"
   ]
  },
  {
   "cell_type": "markdown",
   "id": "9f93820f-f751-4be8-aa65-2e62140f7239",
   "metadata": {},
   "source": [
    "### Language chapters"
   ]
  },
  {
   "cell_type": "code",
   "execution_count": 52,
   "id": "d3352868-bc84-4ccf-b28c-ad079709d2ea",
   "metadata": {},
   "outputs": [],
   "source": [
    "def language_chapters(data):\n",
    "    lang_ch = defaultdict(list)\n",
    "    for e, v in iter_fixed(data):\n",
    "        lang_ch[e.lang].append((e.chap, e.vers))\n",
    "    return lang_ch"
   ]
  },
  {
   "cell_type": "code",
   "execution_count": 49,
   "id": "cc30c2c7-a18a-43b9-b68a-03c035011747",
   "metadata": {},
   "outputs": [
    {
     "name": "stdout",
     "output_type": "stream",
     "text": [
      "1min 22s ± 3.05 s per loop (mean ± std. dev. of 7 runs, 1 loop each)\n"
     ]
    }
   ],
   "source": [
    "%%timeit\n",
    "lc = language_chapters(data)"
   ]
  },
  {
   "cell_type": "code",
   "execution_count": 64,
   "id": "de12b8fc-da1a-40a5-b62e-ce14e5f68f8f",
   "metadata": {},
   "outputs": [
    {
     "name": "stdout",
     "output_type": "stream",
     "text": [
      "8217\n"
     ]
    }
   ],
   "source": [
    "print(len(lc['GERMANY'])) # Germany is complete"
   ]
  },
  {
   "cell_type": "code",
   "execution_count": 71,
   "id": "0878d786-c19d-4fce-a35e-74e30ae17fe1",
   "metadata": {},
   "outputs": [
    {
     "data": {
      "text/plain": [
       "{('2CO.13', 14),\n",
       " ('ACT.15', 34),\n",
       " ('ACT.24', 7),\n",
       " ('ACT.28', 29),\n",
       " ('ACT.8', 37),\n",
       " ('JHN.5', 4),\n",
       " ('LUK.17', 36),\n",
       " ('LUK.23', 17),\n",
       " ('MAT.17', 21),\n",
       " ('MAT.18', 11),\n",
       " ('MAT.23', 14),\n",
       " ('MRK.11', 26),\n",
       " ('MRK.15', 28),\n",
       " ('MRK.7', 16),\n",
       " ('MRK.9', 44),\n",
       " ('MRK.9', 46),\n",
       " ('ROM.16', 24)}"
      ]
     },
     "execution_count": 71,
     "metadata": {},
     "output_type": "execute_result"
    }
   ],
   "source": [
    "set(lc['GERMANY']) - set(lc['ENGLISH'])"
   ]
  },
  {
   "cell_type": "code",
   "execution_count": 75,
   "id": "20d29a19-6067-47c0-a67e-8d8bfb277356",
   "metadata": {},
   "outputs": [
    {
     "data": {
      "text/plain": [
       "{('2CO.13', 14),\n",
       " ('ACT.15', 34),\n",
       " ('ACT.24', 7),\n",
       " ('ACT.28', 29),\n",
       " ('ACT.8', 37),\n",
       " ('JHN.5', 4),\n",
       " ('LUK.17', 36),\n",
       " ('LUK.23', 17),\n",
       " ('MAT.17', 21),\n",
       " ('MAT.18', 11),\n",
       " ('MAT.23', 14),\n",
       " ('MRK.11', 26),\n",
       " ('MRK.15', 28),\n",
       " ('MRK.7', 16),\n",
       " ('MRK.9', 44),\n",
       " ('MRK.9', 46),\n",
       " ('ROM.16', 24)}"
      ]
     },
     "execution_count": 75,
     "metadata": {},
     "output_type": "execute_result"
    }
   ],
   "source": [
    "set(lc['GERMANY']) - set(lc['ENGLISH'])"
   ]
  },
  {
   "cell_type": "code",
   "execution_count": 58,
   "id": "7bee3e07-82e8-4554-b087-daa07007c6cf",
   "metadata": {},
   "outputs": [
    {
     "data": {
      "text/plain": [
       "27"
      ]
     },
     "execution_count": 58,
     "metadata": {},
     "output_type": "execute_result"
    }
   ],
   "source": [
    "len(books)"
   ]
  },
  {
   "cell_type": "code",
   "execution_count": 60,
   "id": "ade84b00-ef38-4ca3-9519-4840f775987a",
   "metadata": {},
   "outputs": [
    {
     "data": {
      "text/plain": [
       "260"
      ]
     },
     "execution_count": 60,
     "metadata": {},
     "output_type": "execute_result"
    }
   ],
   "source": [
    "len(chaps)"
   ]
  },
  {
   "cell_type": "code",
   "execution_count": 63,
   "id": "eb841cd8-7aeb-4766-b63b-134b23813a86",
   "metadata": {},
   "outputs": [
    {
     "data": {
      "text/plain": [
       "7957"
      ]
     },
     "execution_count": 63,
     "metadata": {},
     "output_type": "execute_result"
    }
   ],
   "source": [
    "8217 - 260\n"
   ]
  },
  {
   "cell_type": "code",
   "execution_count": 82,
   "id": "fbf715d0-b340-4de1-8c80-257d33feecfe",
   "metadata": {},
   "outputs": [
    {
     "data": {
      "text/plain": [
       "[Entry(book='MRK', chap='MRK.16', lang='GERMANY', vers=0),\n",
       " Entry(book='MRK', chap='MRK.16', lang='GERMANY', vers=1),\n",
       " Entry(book='MRK', chap='MRK.16', lang='GERMANY', vers=2),\n",
       " Entry(book='MRK', chap='MRK.16', lang='GERMANY', vers=3),\n",
       " Entry(book='MRK', chap='MRK.16', lang='GERMANY', vers=4),\n",
       " Entry(book='MRK', chap='MRK.16', lang='GERMANY', vers=5),\n",
       " Entry(book='MRK', chap='MRK.16', lang='GERMANY', vers=6),\n",
       " Entry(book='MRK', chap='MRK.16', lang='GERMANY', vers=7),\n",
       " Entry(book='MRK', chap='MRK.16', lang='GERMANY', vers=8),\n",
       " Entry(book='MRK', chap='MRK.16', lang='GERMANY', vers=9),\n",
       " Entry(book='MRK', chap='MRK.16', lang='GERMANY', vers=10),\n",
       " Entry(book='MRK', chap='MRK.16', lang='GERMANY', vers=11),\n",
       " Entry(book='MRK', chap='MRK.16', lang='GERMANY', vers=12),\n",
       " Entry(book='MRK', chap='MRK.16', lang='GERMANY', vers=13),\n",
       " Entry(book='MRK', chap='MRK.16', lang='GERMANY', vers=14),\n",
       " Entry(book='MRK', chap='MRK.16', lang='GERMANY', vers=15),\n",
       " Entry(book='MRK', chap='MRK.16', lang='GERMANY', vers=16),\n",
       " Entry(book='MRK', chap='MRK.16', lang='GERMANY', vers=17),\n",
       " Entry(book='MRK', chap='MRK.16', lang='GERMANY', vers=18),\n",
       " Entry(book='MRK', chap='MRK.16', lang='GERMANY', vers=19),\n",
       " Entry(book='MRK', chap='MRK.16', lang='GERMANY', vers=20)]"
      ]
     },
     "execution_count": 82,
     "metadata": {},
     "output_type": "execute_result"
    }
   ],
   "source": [
    "[ f for f, s in iter_fixed(data, book='MRK', lang='GERMANY', chap='MRK.16')]"
   ]
  },
  {
   "cell_type": "code",
   "execution_count": 125,
   "id": "8ad36004-3815-4877-b2e0-2c6a56722260",
   "metadata": {},
   "outputs": [],
   "source": [
    "#del lc['GUARANI']\n",
    "#del lc['CANELA']\n",
    "del[o[0]]"
   ]
  },
  {
   "cell_type": "code",
   "execution_count": 133,
   "id": "14c9ef19-b167-44c6-acdc-b45716c04ffb",
   "metadata": {},
   "outputs": [],
   "source": [
    "s = set(lc['GERMANY'])\n",
    "for l, v in lc.items():\n",
    "    v = set(v)\n",
    "    s = s & v\n",
    "    if not s or not v:\n",
    "        print(l)\n",
    "    "
   ]
  },
  {
   "cell_type": "code",
   "execution_count": 134,
   "id": "efef3001-f12a-4405-90ff-d44932ddb10f",
   "metadata": {},
   "outputs": [
    {
     "data": {
      "text/plain": [
       "0.47121820615796517"
      ]
     },
     "execution_count": 134,
     "metadata": {},
     "output_type": "execute_result"
    }
   ],
   "source": [
    "len(s) / len(lc['GERMANY'])"
   ]
  },
  {
   "cell_type": "code",
   "execution_count": 131,
   "id": "fa71eb6b-4cd2-48d8-bbdc-4f42bc0726e5",
   "metadata": {},
   "outputs": [],
   "source": [
    "o = sorted([ l for l in lc.keys()], key=lambda x: len(lc[x]))"
   ]
  },
  {
   "cell_type": "code",
   "execution_count": 132,
   "id": "c1ccdf2e-98d6-4634-8805-3a7ae682acb8",
   "metadata": {},
   "outputs": [
    {
     "data": {
      "text/plain": [
       "'APINAYÉ'"
      ]
     },
     "execution_count": 132,
     "metadata": {},
     "output_type": "execute_result"
    }
   ],
   "source": [
    "o[0]"
   ]
  },
  {
   "cell_type": "code",
   "execution_count": 130,
   "id": "6c7b9532-04ff-4ea9-aac1-54bf9fead58a",
   "metadata": {},
   "outputs": [],
   "source": [
    "del lc[o[0]]"
   ]
  },
  {
   "cell_type": "code",
   "execution_count": 124,
   "id": "ed9625b7-c50f-42cf-8171-981184502900",
   "metadata": {},
   "outputs": [],
   "source": [
    "from math import isnan\n",
    "for e, v in iter_fixed(data, lang=o[0]):\n",
    "    if e.vers == 0 and not(isnan(v)):\n",
    "        print(e, v)"
   ]
  },
  {
   "cell_type": "code",
   "execution_count": 139,
   "id": "748b5eb3-7c75-49e4-943d-2c606d1081b6",
   "metadata": {},
   "outputs": [
    {
     "name": "stdout",
     "output_type": "stream",
     "text": [
      "1 57 4096 0.4984787635390045\n",
      "2 56 4238 0.5157600097359134\n",
      "3 55 4429 0.5390045028599245\n",
      "4 54 4664 0.5676037483266398\n",
      "5 53 4760 0.5792868443470853\n",
      "6 52 4915 0.5981501764634295\n",
      "7 51 5126 0.6238286479250335\n",
      "8 50 5258 0.6398929049531459\n",
      "9 49 5381 0.6548618717293416\n",
      "10 48 5528 0.6727516125106486\n",
      "11 47 5652 0.687842278203724\n",
      "12 46 5787 0.7042716319824753\n",
      "13 45 5903 0.7183887063405135\n",
      "14 44 5986 0.7284897164415237\n",
      "15 43 6003 0.7305585980284776\n",
      "16 42 6135 0.74662285505659\n",
      "17 41 6151 0.7485700377266642\n",
      "18 40 6228 0.7579408543263965\n",
      "19 39 6357 0.77364001460387\n",
      "20 38 6444 0.7842278203723987\n",
      "21 37 6520 0.7934769380552513\n",
      "22 36 6603 0.8035779481562614\n",
      "23 35 6729 0.818912011683096\n",
      "24 34 6815 0.8293781185347451\n",
      "25 33 6917 0.8417914080564683\n",
      "26 32 7030 0.8555433856638676\n",
      "27 31 7087 0.8624802239260071\n",
      "28 30 7166 0.8720944383594986\n",
      "29 29 7267 0.8843860289643423\n",
      "30 28 7337 0.892904953145917\n",
      "31 27 7415 0.9023974686625289\n",
      "32 26 7472 0.9093343069246683\n",
      "33 25 7560 0.9200438116100766\n",
      "34 24 7641 0.9299014238773274\n",
      "35 23 7697 0.9367165632225873\n",
      "36 22 7769 0.9454788852379213\n",
      "37 21 7833 0.9532676159182183\n",
      "38 20 7834 0.9533893148350979\n",
      "39 19 7897 0.9610563465985152\n",
      "40 18 7957 0.9683582816112937\n",
      "41 17 8017 0.9756602166240721\n",
      "42 16 8064 0.9813800657174151\n",
      "43 15 8115 0.9875867104782767\n",
      "44 14 8161 0.9931848606547402\n",
      "45 13 8180 0.9954971400754533\n",
      "46 12 8188 0.9964707314104905\n",
      "47 11 8198 0.9976877205792869\n",
      "48 10 8205 0.9985396129974443\n",
      "49 9 8209 0.9990264086649628\n",
      "50 8 8212 0.9993915054156018\n",
      "51 7 8213 0.9995132043324815\n",
      "52 6 8215 0.9997566021662407\n",
      "53 5 8215 0.9997566021662407\n",
      "54 4 8215 0.9997566021662407\n",
      "55 3 8215 0.9997566021662407\n",
      "56 2 8217 1.0\n",
      "57 1 8217 1.0\n",
      "58 0 8217 1.0\n"
     ]
    }
   ],
   "source": [
    "r = set()\n",
    "for l in o:\n",
    "    r.add(l)\n",
    "    s = set(lc['GERMANY'])\n",
    "    for l1, v in lc.items():\n",
    "        if l1 in r: continue \n",
    "        v = set(v)\n",
    "        s = s & v\n",
    "    print(len(r), len(lc.keys()) - len(r), len(s), len(s)/len(lc['GERMANY']))"
   ]
  },
  {
   "cell_type": "code",
   "execution_count": 141,
   "id": "3389d0b2-e742-46ed-a5a9-517b75f8b68e",
   "metadata": {},
   "outputs": [
    {
     "data": {
      "text/plain": [
       "27"
      ]
     },
     "execution_count": 141,
     "metadata": {},
     "output_type": "execute_result"
    }
   ],
   "source": [
    "len(o[31:])"
   ]
  }
 ],
 "metadata": {
  "kernelspec": {
   "display_name": "Python 3 (ipykernel)",
   "language": "python",
   "name": "python3"
  },
  "language_info": {
   "codemirror_mode": {
    "name": "ipython",
    "version": 3
   },
   "file_extension": ".py",
   "mimetype": "text/x-python",
   "name": "python",
   "nbconvert_exporter": "python",
   "pygments_lexer": "ipython3",
   "version": "3.10.11"
  }
 },
 "nbformat": 4,
 "nbformat_minor": 5
}
