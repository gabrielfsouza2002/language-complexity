{
 "cells": [
  {
   "cell_type": "code",
   "execution_count": 1,
   "id": "f689752e-20b0-4a03-855a-d697ab660ee2",
   "metadata": {},
   "outputs": [],
   "source": [
    "%load_ext autoreload"
   ]
  },
  {
   "cell_type": "code",
   "execution_count": 2,
   "id": "b7f58d92-c33d-4cc2-809a-1b38d4b3b689",
   "metadata": {},
   "outputs": [],
   "source": [
    "%autoreload 2"
   ]
  },
  {
   "cell_type": "code",
   "execution_count": 3,
   "id": "b58c94b2-39ec-48c4-b6f6-ff5db5207c77",
   "metadata": {},
   "outputs": [],
   "source": [
    "import sys\n",
    "sys.path.append('..')\n",
    "import src.text as text\n",
    "from src.text import tokenizer\n",
    "from src.data import util\n",
    "\n",
    "import pandas as pd"
   ]
  },
  {
   "cell_type": "code",
   "execution_count": 4,
   "id": "5ede25a9-e960-44b7-865f-e9eea0470e3d",
   "metadata": {},
   "outputs": [],
   "source": [
    "df = pd.read_csv('bibles.csv', index_col=0)"
   ]
  },
  {
   "cell_type": "code",
   "execution_count": 5,
   "id": "baefaf29-de7e-4912-a53d-75e2907eb111",
   "metadata": {},
   "outputs": [
    {
     "data": {
      "text/html": [
       "<div>\n",
       "<style scoped>\n",
       "    .dataframe tbody tr th:only-of-type {\n",
       "        vertical-align: middle;\n",
       "    }\n",
       "\n",
       "    .dataframe tbody tr th {\n",
       "        vertical-align: top;\n",
       "    }\n",
       "\n",
       "    .dataframe thead th {\n",
       "        text-align: right;\n",
       "    }\n",
       "</style>\n",
       "<table border=\"1\" class=\"dataframe\">\n",
       "  <thead>\n",
       "    <tr style=\"text-align: right;\">\n",
       "      <th></th>\n",
       "      <th>book</th>\n",
       "      <th>chapter</th>\n",
       "      <th>language</th>\n",
       "      <th>language_wals_code</th>\n",
       "      <th>versicle_number</th>\n",
       "      <th>text</th>\n",
       "    </tr>\n",
       "  </thead>\n",
       "  <tbody>\n",
       "    <tr>\n",
       "      <th>0</th>\n",
       "      <td>REV</td>\n",
       "      <td>12</td>\n",
       "      <td>ANCIENT_GREEK</td>\n",
       "      <td>[grc]</td>\n",
       "      <td>1</td>\n",
       "      <td>Καὶ σημεῖον μέγα ὤφθη ἐν τῷ οὐρανῷ, γυνὴ περιβ...</td>\n",
       "    </tr>\n",
       "    <tr>\n",
       "      <th>1</th>\n",
       "      <td>2CO</td>\n",
       "      <td>7</td>\n",
       "      <td>ANCIENT_GREEK</td>\n",
       "      <td>[grc]</td>\n",
       "      <td>1</td>\n",
       "      <td>ταύτας οὖν ἔχοντες τὰς ἐπαγγελίας, ἀγαπητοί, κ...</td>\n",
       "    </tr>\n",
       "    <tr>\n",
       "      <th>2</th>\n",
       "      <td>REV</td>\n",
       "      <td>19</td>\n",
       "      <td>ANCIENT_GREEK</td>\n",
       "      <td>[grc]</td>\n",
       "      <td>1</td>\n",
       "      <td>Μετὰ ταῦτα ἤκουσα ὡς φωνὴν μεγάλην ὄχλου πολλο...</td>\n",
       "    </tr>\n",
       "    <tr>\n",
       "      <th>3</th>\n",
       "      <td>MRK</td>\n",
       "      <td>11</td>\n",
       "      <td>ANCIENT_GREEK</td>\n",
       "      <td>[grc]</td>\n",
       "      <td>1</td>\n",
       "      <td>Καὶ ὅτε ἐγγίζουσιν εἰς Ἱεροσόλυμα εἰς Βηθφαγὴ ...</td>\n",
       "    </tr>\n",
       "    <tr>\n",
       "      <th>4</th>\n",
       "      <td>ROM</td>\n",
       "      <td>3</td>\n",
       "      <td>ANCIENT_GREEK</td>\n",
       "      <td>[grc]</td>\n",
       "      <td>1</td>\n",
       "      <td>Τί οὖν τὸ περισσὸν τοῦ Ἰουδαίου, ἢ τίς ἡ ὠφέλε...</td>\n",
       "    </tr>\n",
       "  </tbody>\n",
       "</table>\n",
       "</div>"
      ],
      "text/plain": [
       "  book  chapter       language language_wals_code  versicle_number  \\\n",
       "0  REV       12  ANCIENT_GREEK              [grc]                1   \n",
       "1  2CO        7  ANCIENT_GREEK              [grc]                1   \n",
       "2  REV       19  ANCIENT_GREEK              [grc]                1   \n",
       "3  MRK       11  ANCIENT_GREEK              [grc]                1   \n",
       "4  ROM        3  ANCIENT_GREEK              [grc]                1   \n",
       "\n",
       "                                                text  \n",
       "0  Καὶ σημεῖον μέγα ὤφθη ἐν τῷ οὐρανῷ, γυνὴ περιβ...  \n",
       "1  ταύτας οὖν ἔχοντες τὰς ἐπαγγελίας, ἀγαπητοί, κ...  \n",
       "2  Μετὰ ταῦτα ἤκουσα ὡς φωνὴν μεγάλην ὄχλου πολλο...  \n",
       "3  Καὶ ὅτε ἐγγίζουσιν εἰς Ἱεροσόλυμα εἰς Βηθφαγὴ ...  \n",
       "4  Τί οὖν τὸ περισσὸν τοῦ Ἰουδαίου, ἢ τίς ἡ ὠφέλε...  "
      ]
     },
     "execution_count": 5,
     "metadata": {},
     "output_type": "execute_result"
    }
   ],
   "source": [
    "df.head(5)"
   ]
  },
  {
   "cell_type": "code",
   "execution_count": 6,
   "id": "417d8984-091b-4dc9-96f4-7bbf8f5f1480",
   "metadata": {},
   "outputs": [],
   "source": [
    "d = util.by_field(df, 'language')"
   ]
  },
  {
   "cell_type": "code",
   "execution_count": 7,
   "id": "680ef8e7-44ae-47f9-ab79-7b3adb798c0a",
   "metadata": {},
   "outputs": [
    {
     "data": {
      "text/plain": [
       "Index(['book', 'chapter', 'language_wals_code', 'versicle_number', 'text'], dtype='object')"
      ]
     },
     "execution_count": 7,
     "metadata": {},
     "output_type": "execute_result"
    }
   ],
   "source": [
    "d['ANCIENT_GREEK'].columns"
   ]
  },
  {
   "cell_type": "code",
   "execution_count": 8,
   "id": "6f9869c4-8795-494c-8b82-a8c4b7415431",
   "metadata": {},
   "outputs": [
    {
     "data": {
      "text/plain": [
       "7940"
      ]
     },
     "execution_count": 8,
     "metadata": {},
     "output_type": "execute_result"
    }
   ],
   "source": [
    "len(d['ANCIENT_GREEK'])"
   ]
  },
  {
   "cell_type": "code",
   "execution_count": 9,
   "id": "bcb751ea-4881-4637-940d-ccd28a99a7bf",
   "metadata": {},
   "outputs": [
    {
     "data": {
      "text/plain": [
       "7942"
      ]
     },
     "execution_count": 9,
     "metadata": {},
     "output_type": "execute_result"
    }
   ],
   "source": [
    "len(d['ENGLISH'])"
   ]
  },
  {
   "cell_type": "code",
   "execution_count": 10,
   "id": "7685aa97-1baf-4ba9-bdd3-740cfff697d2",
   "metadata": {},
   "outputs": [
    {
     "data": {
      "text/plain": [
       "Index(['book', 'chapter', 'language_wals_code', 'versicle_number', 'text'], dtype='object')"
      ]
     },
     "execution_count": 10,
     "metadata": {},
     "output_type": "execute_result"
    }
   ],
   "source": [
    "d['ENGLISH'].columns"
   ]
  },
  {
   "cell_type": "code",
   "execution_count": 11,
   "id": "0c52e4aa-1575-4e3c-8301-330dc13859b0",
   "metadata": {},
   "outputs": [
    {
     "data": {
      "text/html": [
       "<div>\n",
       "<style scoped>\n",
       "    .dataframe tbody tr th:only-of-type {\n",
       "        vertical-align: middle;\n",
       "    }\n",
       "\n",
       "    .dataframe tbody tr th {\n",
       "        vertical-align: top;\n",
       "    }\n",
       "\n",
       "    .dataframe thead th {\n",
       "        text-align: right;\n",
       "    }\n",
       "</style>\n",
       "<table border=\"1\" class=\"dataframe\">\n",
       "  <thead>\n",
       "    <tr style=\"text-align: right;\">\n",
       "      <th></th>\n",
       "      <th>book</th>\n",
       "      <th>chapter</th>\n",
       "      <th>versicle_number</th>\n",
       "    </tr>\n",
       "  </thead>\n",
       "  <tbody>\n",
       "    <tr>\n",
       "      <th>0</th>\n",
       "      <td>MAT</td>\n",
       "      <td>1</td>\n",
       "      <td>18</td>\n",
       "    </tr>\n",
       "    <tr>\n",
       "      <th>1</th>\n",
       "      <td>MAT</td>\n",
       "      <td>1</td>\n",
       "      <td>19</td>\n",
       "    </tr>\n",
       "    <tr>\n",
       "      <th>2</th>\n",
       "      <td>MAT</td>\n",
       "      <td>1</td>\n",
       "      <td>20</td>\n",
       "    </tr>\n",
       "    <tr>\n",
       "      <th>3</th>\n",
       "      <td>MAT</td>\n",
       "      <td>1</td>\n",
       "      <td>21</td>\n",
       "    </tr>\n",
       "    <tr>\n",
       "      <th>4</th>\n",
       "      <td>MAT</td>\n",
       "      <td>2</td>\n",
       "      <td>3</td>\n",
       "    </tr>\n",
       "    <tr>\n",
       "      <th>...</th>\n",
       "      <td>...</td>\n",
       "      <td>...</td>\n",
       "      <td>...</td>\n",
       "    </tr>\n",
       "    <tr>\n",
       "      <th>2580</th>\n",
       "      <td>REV</td>\n",
       "      <td>22</td>\n",
       "      <td>15</td>\n",
       "    </tr>\n",
       "    <tr>\n",
       "      <th>2581</th>\n",
       "      <td>REV</td>\n",
       "      <td>22</td>\n",
       "      <td>16</td>\n",
       "    </tr>\n",
       "    <tr>\n",
       "      <th>2582</th>\n",
       "      <td>REV</td>\n",
       "      <td>22</td>\n",
       "      <td>17</td>\n",
       "    </tr>\n",
       "    <tr>\n",
       "      <th>2583</th>\n",
       "      <td>REV</td>\n",
       "      <td>22</td>\n",
       "      <td>20</td>\n",
       "    </tr>\n",
       "    <tr>\n",
       "      <th>2584</th>\n",
       "      <td>REV</td>\n",
       "      <td>22</td>\n",
       "      <td>21</td>\n",
       "    </tr>\n",
       "  </tbody>\n",
       "</table>\n",
       "<p>2585 rows × 3 columns</p>\n",
       "</div>"
      ],
      "text/plain": [
       "     book  chapter  versicle_number\n",
       "0     MAT        1               18\n",
       "1     MAT        1               19\n",
       "2     MAT        1               20\n",
       "3     MAT        1               21\n",
       "4     MAT        2                3\n",
       "...   ...      ...              ...\n",
       "2580  REV       22               15\n",
       "2581  REV       22               16\n",
       "2582  REV       22               17\n",
       "2583  REV       22               20\n",
       "2584  REV       22               21\n",
       "\n",
       "[2585 rows x 3 columns]"
      ]
     },
     "execution_count": 11,
     "metadata": {},
     "output_type": "execute_result"
    }
   ],
   "source": [
    "util.lcm(df)"
   ]
  },
  {
   "cell_type": "code",
   "execution_count": 12,
   "id": "d0b6e20c-0b6c-4fe1-896c-c58713edc6f9",
   "metadata": {},
   "outputs": [],
   "source": [
    "all_verses = util.lcm_with_cut(df, 0.9)"
   ]
  },
  {
   "cell_type": "code",
   "execution_count": 13,
   "id": "cca91443-d6de-4836-9fb9-7990846cae33",
   "metadata": {},
   "outputs": [
    {
     "data": {
      "text/plain": [
       "['TUYÚCA',\n",
       " 'MATSÉS',\n",
       " 'MACUSHI',\n",
       " 'NADEB',\n",
       " 'WAPISHANA',\n",
       " 'MAXAKALI',\n",
       " 'GUARANI_EASTERN_BOLIVIAN',\n",
       " 'GUARANI_WESTERN_BOLIVIAN',\n",
       " 'APALAÍ',\n",
       " 'KAIGANG',\n",
       " 'GUARANI_PARAGUAY',\n",
       " 'JAMAMADI',\n",
       " 'YANOMAMI',\n",
       " 'PALIKÚR',\n",
       " 'ANCIENT_GREEK',\n",
       " 'ENGLISH',\n",
       " 'SPANISH',\n",
       " 'APURINÃ',\n",
       " 'ASHENINKA',\n",
       " 'FRENCH',\n",
       " 'GUARANI_MBYA',\n",
       " 'GERMANY',\n",
       " 'PARECÍS',\n",
       " 'PORTUGUESE',\n",
       " 'TERÊNA',\n",
       " 'NHEENGATU',\n",
       " 'SATERÉ-MAWÉ']"
      ]
     },
     "execution_count": 13,
     "metadata": {},
     "output_type": "execute_result"
    }
   ],
   "source": [
    "all_verses"
   ]
  },
  {
   "cell_type": "code",
   "execution_count": 14,
   "id": "86b667f5-3772-4965-91f6-33ff86cc8745",
   "metadata": {},
   "outputs": [],
   "source": [
    "s = util.lcm_with_cut(df, 0.9)"
   ]
  },
  {
   "cell_type": "code",
   "execution_count": 16,
   "id": "4dbf7927-907c-48fe-ad1d-6fa9d6cc251c",
   "metadata": {},
   "outputs": [],
   "source": [
    "r = util.intersection(df[df['language'].isin(s)])"
   ]
  },
  {
   "cell_type": "code",
   "execution_count": 17,
   "id": "f9394063-784b-4684-af13-00bc1405706d",
   "metadata": {},
   "outputs": [
    {
     "data": {
      "text/plain": [
       "7159.0"
      ]
     },
     "execution_count": 17,
     "metadata": {},
     "output_type": "execute_result"
    }
   ],
   "source": [
    "len(r) / len(r['language'].unique())"
   ]
  }
 ],
 "metadata": {
  "kernelspec": {
   "display_name": "Python 3 (ipykernel)",
   "language": "python",
   "name": "python3"
  },
  "language_info": {
   "codemirror_mode": {
    "name": "ipython",
    "version": 3
   },
   "file_extension": ".py",
   "mimetype": "text/x-python",
   "name": "python",
   "nbconvert_exporter": "python",
   "pygments_lexer": "ipython3",
   "version": "3.10.11"
  }
 },
 "nbformat": 4,
 "nbformat_minor": 5
}
